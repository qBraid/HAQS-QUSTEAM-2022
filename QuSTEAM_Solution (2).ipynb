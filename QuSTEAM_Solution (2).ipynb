{
 "cells": [
  {
   "cell_type": "markdown",
   "id": "c185d875-4c92-464b-a05a-3693c5cb4120",
   "metadata": {},
   "source": [
    "# Introduction to Entanglement and Bell States"
   ]
  },
  {
   "cell_type": "markdown",
   "id": "c3ef0463-53de-4240-9f3e-d19f862a6932",
   "metadata": {},
   "source": [
    "Before we can take a look at Bell states, let us first identify entanglement. What does it mean, mathematically speaking, for two qubits to be entangled? Well, let us consider a general two-qubit state:"
   ]
  },
  {
   "cell_type": "markdown",
   "id": "bc44a9c9-6bbb-492f-852d-d44cadd585ee",
   "metadata": {},
   "source": [
    "$$\\mathrm{R}\\left|A_0\\right> \\left|B_0\\right> + \\mathrm{S}\\left|A_0\\right> \\left|B_1\\right> + \\mathrm{T}\\left|A_1\\right> \\left|B_0\\right> + \\mathrm{U}\\left|A_1\\right> \\left|B_1\\right>$$"
   ]
  },
  {
   "cell_type": "markdown",
   "id": "7222d5e9-aa2b-48cc-9531-37ec516c442c",
   "metadata": {},
   "source": [
    "Here we have two qubits: Alice ($\\mathrm{A}$) and Bob ($\\mathrm{B}$). Alice and Bob are in a general two qubit vector state, they can each be in either the $\\left|0\\right>$ basis state or the $\\left|1\\right>$ basis state. We have also introduced coefficients ($\\mathrm{R}$, $\\mathrm{S}$, $\\mathrm{T}$, $\\mathrm{U}$) which dictate how correlated or un-correlated Alice and Bob's qubits are. These correlation coefficients are known as 'probability amplitudes' and they will ultimately dictate whether our qubit measurements will affect each other, in other words, whether they are entangled or not."
   ]
  },
  {
   "cell_type": "markdown",
   "id": "5ffaa02d-83c2-41e1-9e40-4701e228162b",
   "metadata": {},
   "source": [
    "### Making sure we have a valid qubit state"
   ]
  },
  {
   "cell_type": "markdown",
   "id": "7326a892-14d5-4331-a845-9da13496cf09",
   "metadata": {},
   "source": [
    "This step is important. Before we get ahead of ourselves and check for entanglement, we must make sure our general qubit state is a valid unit vector. We will do that by adding the squares of the probability amplitudes. If $\\mathrm{R}^2$ + $\\mathrm{S}^2$ + $\\mathrm{T}^2$ + $\\mathrm{U}^2$ = $\\mathrm{1}$    we have a valid unit vector and can proceed. If $\\mathrm{R}^2$ + $\\mathrm{S}^2$ + $\\mathrm{T}^2$ + $\\mathrm{U}^2$ $\\neq$ $\\mathrm{1}$ , then we must normalize our vector state by dividing each term by the magnitude: $\\sqrt{\\mathrm{R}^2 + \\mathrm{S}^2 + \\mathrm{T}^2 + \\mathrm{U}^2}$."
   ]
  },
  {
   "cell_type": "markdown",
   "id": "c4a60090-871a-4e38-b656-4f523f1463af",
   "metadata": {},
   "source": [
    "### Checking for entanglement"
   ]
  },
  {
   "cell_type": "markdown",
   "id": "115d83f2-c30f-4414-a009-a54f3f39bf7c",
   "metadata": {},
   "source": [
    "We are now in a valid unit vector state and we can get to the good stuff! Entanglement is described like this: If $\\mathrm{R} \\cdot \\mathrm{U} \\neq \\mathrm{S} \\cdot \\mathrm{T}$, then our two qubit state is $\\mathrm{ENTANGLED}$. If $\\mathrm{R} \\cdot \\mathrm{U} = \\mathrm{S} \\cdot \\mathrm{T}$, then our two qubit state is $\\mathrm{UNENTANGLED}$. \n",
    "\n",
    "#### Why?\n",
    "\n",
    "Great question! If $\\mathrm{R} \\cdot \\mathrm{U} = \\mathrm{S} \\cdot \\mathrm{T}$, it means we $\\mathrm{CAN}$ factor out all of Alice's basis states and separate them from all of Bob's possible basis states. In other words, Alice's basis states will not affect Bob's basis states no matter what Alice measures, vice versa. However, if $\\mathrm{R} \\cdot \\mathrm{U} \\neq \\mathrm{S} \\cdot \\mathrm{T}$, it means we $\\mathrm{CANNOT}$ factor Alice's basis states and Bob's basis states from each other. If Alice gets a measurement, it will affect Bob, and if Bob gets a measurement, it will affect Alice. Alice and Bob are entangled!"
   ]
  },
  {
   "cell_type": "markdown",
   "id": "9f023bb9-1376-412c-bed2-4487c82e8d43",
   "metadata": {},
   "source": [
    "## Example of an unentangled state"
   ]
  },
  {
   "cell_type": "markdown",
   "id": "5764f2de-0e87-4d3b-96d9-7aa7f8a0aabd",
   "metadata": {},
   "source": [
    "Consider the following two qubit state: $$\\frac{1}{2\\sqrt{2}}\\left|A_0\\right>\\left|B_0\\right> + \\frac{\\sqrt{3}}{2\\sqrt{2}}\\left|A_0\\right>\\left|B_1\\right> + \\frac{1}{2\\sqrt{2}}\\left|A_1\\right>\\left|B_0\\right> + \\frac{\\sqrt{3}}{2\\sqrt{2}}\\left|A_1\\right>\\left|B_1\\right>$$"
   ]
  },
  {
   "cell_type": "markdown",
   "id": "b81d9784-80ba-477b-9e80-e08abc344128",
   "metadata": {},
   "source": [
    "Let us quickly make sure we have a unit vector: $$(\\frac{1}{2\\sqrt{2}})^2 + (\\frac{3}{2\\sqrt{2}})^2 + (\\frac{1}{2\\sqrt{2}})^2 + (\\frac{3}{2\\sqrt{2}})^2 = \\frac{1}{8} + \\frac{3}{8} + \\frac{1}{8} + \\frac{3}{8} = 1$$"
   ]
  },
  {
   "cell_type": "markdown",
   "id": "2f84e47c-2b44-404a-b5e6-5c11eba9d81d",
   "metadata": {},
   "source": [
    "Great! We have a unit vector. We can proceed."
   ]
  },
  {
   "cell_type": "markdown",
   "id": "6fe4797c-8ba3-491d-92fd-2353d763238a",
   "metadata": {},
   "source": [
    "##### Testing entanglement"
   ]
  },
  {
   "cell_type": "markdown",
   "id": "74fe998f-0883-4471-a7ac-d43651bff328",
   "metadata": {},
   "source": [
    "$\\mathrm{R} \\cdot \\mathrm{U} = \\frac{1}{2\\sqrt{2}} \\cdot \\frac{3}{2\\sqrt{2}}= \\frac{\\sqrt{3}}{8} $ "
   ]
  },
  {
   "cell_type": "markdown",
   "id": "612ab8d5-edbc-4b55-a108-65b0b8cb6e31",
   "metadata": {},
   "source": [
    "$\\mathrm{and}$"
   ]
  },
  {
   "cell_type": "markdown",
   "id": "0669f563-c19b-4ccd-8a6a-9c963aae6035",
   "metadata": {},
   "source": [
    "$\\mathrm{S} \\cdot \\mathrm{T} = \\frac{\\sqrt{3}}{2\\sqrt{2}} \\cdot \\frac{1}{2\\sqrt{2}}= \\frac{\\sqrt{3}}{8} $ "
   ]
  },
  {
   "cell_type": "markdown",
   "id": "108cfa21-b64c-4298-b495-2588f646a9b0",
   "metadata": {},
   "source": [
    "$\\mathrm{so}$"
   ]
  },
  {
   "cell_type": "markdown",
   "id": "3de29d4b-cec9-47ac-b37a-9cc44bc9aaed",
   "metadata": {},
   "source": [
    " $\\mathrm{R \\cdot U = S \\cdot T}$"
   ]
  },
  {
   "cell_type": "markdown",
   "id": "e8b141a0-cbc9-467c-82de-b8f3e2673d4b",
   "metadata": {},
   "source": [
    "Meaning the two qubits $\\left|A\\right>$ and $\\left|B\\right>$ are unentagled."
   ]
  },
  {
   "cell_type": "markdown",
   "id": "c64ca282-ab3d-4f71-8ae9-8e88c5669cae",
   "metadata": {},
   "source": [
    "## Example of an entangled state"
   ]
  },
  {
   "cell_type": "markdown",
   "id": "8e7722ce-8948-4a8f-bb6e-7827cfc55c62",
   "metadata": {},
   "source": [
    "Consdier the following two qubit state: $$\\frac{1}{2}\\left|A_0\\right>\\left|B_0\\right> + \\frac{1}{2}\\left|A_0\\right>\\left|B_1\\right> + \\frac{1}{\\sqrt{2}}\\left|A_1\\right>\\left|B_0\\right> + \\mathrm{0}\\left|A_1\\right>\\left|B_1\\right>$$"
   ]
  },
  {
   "cell_type": "markdown",
   "id": "b020efcd-075f-4fb9-9d59-fc16e94fb819",
   "metadata": {},
   "source": [
    "Let us quickly make sure we have a unit vector: $$(\\frac{1}{2})^2 + (\\frac{1}{2})^2 + (\\frac{1}{2\\sqrt{2}})^2 + (\\mathrm{0})^2 = \\frac{1}{4} + \\frac{1}{4} + \\frac{1}{{2}} + 0 = 1$$"
   ]
  },
  {
   "cell_type": "markdown",
   "id": "3cb1100c-d0a9-4597-9bac-522c0aefe877",
   "metadata": {},
   "source": [
    "Great! We have a unit vector. We can proceed."
   ]
  },
  {
   "cell_type": "markdown",
   "id": "dcb2e20c-faf7-42d1-b3cc-dd880a584bc5",
   "metadata": {},
   "source": [
    "##### Testing entanglement"
   ]
  },
  {
   "cell_type": "markdown",
   "id": "46719d96-215d-4480-bdce-735b05d2ab36",
   "metadata": {},
   "source": [
    "$\\mathrm{R} \\cdot \\mathrm{U} = \\frac{1}{2} \\cdot \\mathrm{0} = \\mathrm{0} $ "
   ]
  },
  {
   "cell_type": "markdown",
   "id": "25b104b6-6613-44f1-9cb7-3c7f1d337796",
   "metadata": {},
   "source": [
    "$\\mathrm{and}$"
   ]
  },
  {
   "cell_type": "markdown",
   "id": "8e381ee8-0174-42d8-b14b-3e7301cab2d6",
   "metadata": {},
   "source": [
    "$\\mathrm{S} \\cdot \\mathrm{T} = \\frac{1}{2} \\cdot \\frac{1}{2\\sqrt{2}} = \\frac{1}{2\\sqrt{2}} $ "
   ]
  },
  {
   "cell_type": "markdown",
   "id": "789f9f7a-fff3-433f-96f3-a065a21c956e",
   "metadata": {},
   "source": [
    "$\\mathrm{so}$"
   ]
  },
  {
   "cell_type": "markdown",
   "id": "b49be200-9ad6-40b7-8b50-35069cd6655b",
   "metadata": {},
   "source": [
    " $\\mathrm{R \\cdot U \\neq S \\cdot T}$"
   ]
  },
  {
   "cell_type": "markdown",
   "id": "110883cf-a507-4a6c-bd7d-19574e283cdf",
   "metadata": {},
   "source": [
    "Meaning the two qubits $\\left|A \\right>$ and $\\left|B\\right>$ are entangled!"
   ]
  },
  {
   "cell_type": "markdown",
   "id": "c17fd552-274c-45bb-bc0c-d0729882568e",
   "metadata": {},
   "source": [
    "## Bell States"
   ]
  },
  {
   "cell_type": "markdown",
   "id": "c6701ae0-4f37-49c8-a51e-ac4a950f07c7",
   "metadata": {},
   "source": [
    "Bell states are a two qubit state where the two qubits are maximally entangled. This means that Alice and Bob's probability amplitudes (which dictate how entangled the qubits are) are correlated at the highest level. Bell states can be put in slightly different notation than what we are used to: $$\\frac{1}{\\sqrt{2}}(\\left|A_0 B_0\\right> + \\left|A_1 B_1\\right>)$$"
   ]
  },
  {
   "cell_type": "markdown",
   "id": "c72d054f-c11a-403f-8c15-2b71ea604503",
   "metadata": {},
   "source": [
    "#### The four Bell States:"
   ]
  },
  {
   "cell_type": "markdown",
   "id": "b448c924-b211-426f-8070-baa50bd7b8a0",
   "metadata": {},
   "source": [
    "$\\left|\\phi^+\\right>$ = $\\frac{1}{\\sqrt{2}}(\\left|00\\right> + \\left|11\\right>)$"
   ]
  },
  {
   "cell_type": "markdown",
   "id": "4735757d-dde3-48d4-829d-cdad97f6395a",
   "metadata": {},
   "source": [
    "$\\left|\\phi^-\\right>$ = $\\frac{1}{\\sqrt{2}}(\\left|00\\right> - \\left|11\\right>)$"
   ]
  },
  {
   "cell_type": "markdown",
   "id": "76127b85-648c-40c2-a5af-0fbc346e60ca",
   "metadata": {},
   "source": [
    "$\\left|\\psi^+\\right>$ = $\\frac{1}{\\sqrt{2}}(\\left|01\\right> + \\left|10\\right>)$"
   ]
  },
  {
   "cell_type": "markdown",
   "id": "9c903ced-f59c-42d4-a1bd-926d6c15122e",
   "metadata": {},
   "source": [
    "$\\left|\\psi^-\\right>$ = $\\frac{1}{\\sqrt{2}}(\\left|01\\right> - \\left|01\\right>)$"
   ]
  },
  {
   "cell_type": "markdown",
   "id": "e892ca2b-e7ce-45b4-8111-5a5e672f0edc",
   "metadata": {},
   "source": [
    "## Creating a Bell state in a quantum simulator"
   ]
  },
  {
   "cell_type": "markdown",
   "id": "20793cc4-e4ae-4095-81fb-21dc50d1f62b",
   "metadata": {},
   "source": [
    "##### We will first import many libraries so we can actually use the simulator and actual hardware:"
   ]
  },
  {
   "cell_type": "markdown",
   "id": "c3d2cb73-3d43-4ade-9a4f-f4b545664dde",
   "metadata": {},
   "source": [
    "*Important note! This code has been provided by the QuSTEAM group, this is not original code! The code comes with many very useful comments that should help you understand what is happening at each step."
   ]
  },
  {
   "cell_type": "code",
   "execution_count": 2,
   "id": "3822ddbf-e87e-4f0f-824b-45503f6a4ce3",
   "metadata": {},
   "outputs": [
    {
     "name": "stdout",
     "output_type": "stream",
     "text": [
      "\u001b[0;35mYou have already enabled qBraid Quantum Jobs in the amazon_braket environment.\u001b[0m\n"
     ]
    }
   ],
   "source": [
    "!qbraid jobs enable amazon_braket #You only need to run this line once after you install the environment"
   ]
  },
  {
   "cell_type": "code",
   "execution_count": 3,
   "id": "6f0df766-866e-41b8-8a6d-ccaeb14df311",
   "metadata": {},
   "outputs": [],
   "source": [
    "# general imports\n",
    "import numpy as np\n",
    "import matplotlib.pyplot as plt\n",
    "# magic word for producing visualizations in notebook\n",
    "%matplotlib inline\n",
    "import string\n",
    "import time\n",
    "\n",
    "# AWS imports: Import Braket SDK modules\n",
    "from braket.circuits import Circuit, Gate, Instruction, circuit, Observable\n",
    "from braket.devices import LocalSimulator\n",
    "from braket.aws import AwsDevice, AwsQuantumTask\n",
    "s3_folder = (\"dummy_variable\", \"dummy_variable\")"
   ]
  },
  {
   "cell_type": "code",
   "execution_count": 4,
   "id": "84530b4c-08da-4254-880c-4dd1ea4c59e4",
   "metadata": {},
   "outputs": [
    {
     "name": "stdout",
     "output_type": "stream",
     "text": [
      "Gate set supported by SDK:\n",
      " ['CCNot', 'CNot', 'CPhaseShift', 'CPhaseShift00', 'CPhaseShift01', 'CPhaseShift10', 'CSwap', 'CV', 'CY', 'CZ', 'ECR', 'H', 'I', 'ISwap', 'PSwap', 'PhaseShift', 'Rx', 'Ry', 'Rz', 'S', 'Si', 'Swap', 'T', 'Ti', 'Unitary', 'V', 'Vi', 'X', 'XX', 'XY', 'Y', 'YY', 'Z', 'ZZ']\n",
      "\n",
      "\n",
      "Gate set supported by the Rigetti device:\n",
      " ['cz', 'xy', 'ccnot', 'cnot', 'cphaseshift', 'cphaseshift00', 'cphaseshift01', 'cphaseshift10', 'cswap', 'h', 'i', 'iswap', 'phaseshift', 'pswap', 'rx', 'ry', 'rz', 's', 'si', 'swap', 't', 'ti', 'x', 'y', 'z', 'start_verbatim_box', 'end_verbatim_box']\n",
      "\n",
      "\n",
      "Gate set supported by the IonQ device:\n",
      " ['x', 'y', 'z', 'rx', 'ry', 'rz', 'h', 'cnot', 's', 'si', 't', 'ti', 'v', 'vi', 'xx', 'yy', 'zz', 'swap']\n",
      "\n",
      "\n",
      "Gate set supported by the OQC device:\n",
      " ['ccnot', 'cnot', 'cphaseshift', 'cswap', 'cy', 'cz', 'h', 'i', 'phaseshift', 'rx', 'ry', 'rz', 's', 'si', 'swap', 't', 'ti', 'v', 'vi', 'x', 'y', 'z', 'ecr', 'start_verbatim_box', 'end_verbatim_box']\n"
     ]
    }
   ],
   "source": [
    "# print all (the usual suspects) available gates currently available within SDK\n",
    "gate_set = [attr for attr in dir(Gate) if attr[0] in string.ascii_uppercase]\n",
    "print('Gate set supported by SDK:\\n', gate_set)\n",
    "print('\\n') \n",
    "\n",
    "# the Rigetti device\n",
    "device = AwsDevice(\"arn:aws:braket:us-west-1::device/qpu/rigetti/Aspen-M-1\")\n",
    "supported_gates = device.properties.action['braket.ir.jaqcd.program'].supportedOperations\n",
    "# print the supported gate set\n",
    "print('Gate set supported by the Rigetti device:\\n', supported_gates)\n",
    "print('\\n') \n",
    "\n",
    "# the IonQ device\n",
    "device = AwsDevice(\"arn:aws:braket:::device/qpu/ionq/ionQdevice\")\n",
    "supported_gates = device.properties.action['braket.ir.jaqcd.program'].supportedOperations\n",
    "# print the supported gate set\n",
    "print('Gate set supported by the IonQ device:\\n', supported_gates)\n",
    "print('\\n') \n",
    "\n",
    "# the Oxford Quantum Circuits (OQC) device\n",
    "device = AwsDevice(\"arn:aws:braket:eu-west-2::device/qpu/oqc/Lucy\")\n",
    "supported_gates = device.properties.action['braket.ir.jaqcd.program'].supportedOperations\n",
    "# print the supported gate set\n",
    "print('Gate set supported by the OQC device:\\n', supported_gates)"
   ]
  },
  {
   "cell_type": "markdown",
   "id": "1e2eca29-90e5-49a0-94ac-6ecd7ea9b742",
   "metadata": {},
   "source": [
    "#### Time to get started"
   ]
  },
  {
   "cell_type": "markdown",
   "id": "1093c323-11e7-4535-b711-fa029604d831",
   "metadata": {},
   "source": [
    "Why would we want to simulate a Bell state instead of running it on actual quantum hardware? Well, although we live in an awesome world where anyone can access a quantum computer through their computers, we also need to be practical. Livning in a world where everyone has access to a quantum computer means that the life of a quantum computer is a busy life. If we need a quick demonstration that is instant and we want to skip the queue to run our code on actual quantum hardware, we can take advantage of classical simulators."
   ]
  },
  {
   "cell_type": "code",
   "execution_count": 5,
   "id": "f5ec1b41-251a-4cac-895d-e0a80dc7177c",
   "metadata": {},
   "outputs": [],
   "source": [
    "bell = Circuit().h(0).cnot(0, 1)"
   ]
  },
  {
   "cell_type": "markdown",
   "id": "8a589b9c-0de8-43f9-8205-a40ab4805738",
   "metadata": {},
   "source": [
    "A Bell state is a hadamard gate (puts a qubit in 50-50 superposition) on the first qubit followed by a CNOT gate (entangles qubits) with the first qubit being the control qubit.\n"
   ]
  },
  {
   "cell_type": "code",
   "execution_count": 6,
   "id": "705eb021-3bdd-4e17-b73f-d019d0deed95",
   "metadata": {},
   "outputs": [],
   "source": [
    "device = LocalSimulator()"
   ]
  },
  {
   "cell_type": "code",
   "execution_count": 7,
   "id": "fe87cf9b-4a48-42bb-8824-4d211cbcfbe5",
   "metadata": {},
   "outputs": [
    {
     "name": "stdout",
     "output_type": "stream",
     "text": [
      "Counter({'11': 5, '00': 5})\n"
     ]
    }
   ],
   "source": [
    "# run circuit (execute single TASK)\n",
    "result = device.run(bell, shots=10).result()\n",
    "# get measurement shots\n",
    "counts = result.measurement_counts\n",
    "# print counts\n",
    "print(counts)\n"
   ]
  },
  {
   "cell_type": "markdown",
   "id": "5c7f5789-797f-43c6-897e-d1959957e88a",
   "metadata": {},
   "source": [
    "## Running code on quantum hardware"
   ]
  },
  {
   "cell_type": "markdown",
   "id": "52b77d0e-440e-4eb2-9ecb-efdfc88ad203",
   "metadata": {},
   "source": [
    "We now want to actaully run the code on real hardware. Let us run an experiment. We shall measure the difference in result between each company."
   ]
  },
  {
   "cell_type": "code",
   "execution_count": 22,
   "id": "1385e613-3cc4-4151-a5a7-bf843a0492c6",
   "metadata": {},
   "outputs": [
    {
     "name": "stdout",
     "output_type": "stream",
     "text": [
      "Status of task: CREATED\n",
      "Status of (reconstructed) task: CREATED\n"
     ]
    }
   ],
   "source": [
    "rigetti = AwsDevice(\"arn:aws:braket:us-west-1::device/qpu/rigetti/Aspen-M-2\")\n",
    "bell = Circuit().h(0).cnot(0, 1)\n",
    "bell.expectation(Observable.Z() @ Observable.Z(), target=[0,1])\n",
    "rigetti_task = rigetti.run(bell, s3_folder,shots=10)\n",
    "rigetti_task_id = rigetti_task.id\n",
    "rigetti_status = rigetti_task.state()\n",
    "# print('ID of task:', rigetti_task_id)\n",
    "print('Status of task:', rigetti_status)\n",
    "# print status\n",
    "status = rigetti_task.state()\n",
    "print('Status of (reconstructed) task:', status)"
   ]
  },
  {
   "cell_type": "code",
   "execution_count": 19,
   "id": "02147ac3-4b00-4f61-818f-9d87087fb4db",
   "metadata": {},
   "outputs": [
    {
     "name": "stdout",
     "output_type": "stream",
     "text": [
      "Status of task: QUEUED\n"
     ]
    }
   ],
   "source": [
    "# set up device\n",
    "ionq = AwsDevice(\"arn:aws:braket:::device/qpu/ionq/ionQdevice\")\n",
    "\n",
    "# run circuit\n",
    "ionq_task = ionq.run(bell, s3_folder, shots=10)\n",
    "\n",
    "# get id and status of submitted task\n",
    "ionq_task_id = ionq_task.id\n",
    "ionq_status = ionq_task.state()\n",
    "# print('ID of task:', ionq_task_id)\n",
    "print('Status of task:', ionq_status)"
   ]
  },
  {
   "cell_type": "code",
   "execution_count": 20,
   "id": "6751a362-9018-4964-b36c-3507baf7406f",
   "metadata": {},
   "outputs": [
    {
     "name": "stdout",
     "output_type": "stream",
     "text": [
      "Status of (reconstructed) task: QUEUED\n"
     ]
    }
   ],
   "source": [
    "# print status\n",
    "status = ionq_task.state()\n",
    "print('Status of (reconstructed) task:', status)"
   ]
  },
  {
   "cell_type": "code",
   "execution_count": 6,
   "id": "1ab337b4-a56b-4e52-b26e-a789b04e2544",
   "metadata": {},
   "outputs": [
    {
     "name": "stdout",
     "output_type": "stream",
     "text": [
      "Status of (reconstructed) task: COMPLETED\n",
      "\n",
      "\n",
      "10 shots taken on machine arn:aws:braket:us-west-1::device/qpu/rigetti/Aspen-M-2.\n",
      "\n",
      "Measurement counts: Counter({'00': 8, '11': 2})\n"
     ]
    },
    {
     "data": {
      "image/png": "[encoded data removed]",
      "text/plain": [
       "<Figure size 432x288 with 1 Axes>"
      ]
     },
     "metadata": {
      "needs_background": "light"
     },
     "output_type": "display_data"
    }
   ],
   "source": [
    "task_load = AwsQuantumTask(arn=\"arn:aws:braket:us-west-1:592242689881:quantum-task/fd9ac7d0-51b8-497e-ad1f-660b60001878\")\n",
    "\n",
    "# print status\n",
    "status = task_load.state()\n",
    "print('Status of (reconstructed) task:', status)\n",
    "print('\\n')\n",
    "# wait for job to complete\n",
    "# terminal_states = ['COMPLETED', 'FAILED', 'CANCELLED']\n",
    "if status == 'COMPLETED':\n",
    "    # get results\n",
    "    results = task_load.result()\n",
    "    # print(results)\n",
    "    \n",
    "    # get all metadata of submitted task\n",
    "    metadata = task_load.metadata()\n",
    "    # example for metadata\n",
    "    shots = metadata['shots']\n",
    "    machine = metadata['deviceArn']\n",
    "    # print example metadata\n",
    "    print(\"{} shots taken on machine {}.\\n\".format(shots, machine))\n",
    "    \n",
    "    # get measurement counts\n",
    "    counts = results.measurement_counts\n",
    "    print('Measurement counts:', counts)\n",
    "\n",
    "    # plot results: see effects of noise\n",
    "    plt.bar(counts.keys(), counts.values())\n",
    "    plt.xlabel('bitstrings')\n",
    "    plt.ylabel('counts')\n",
    "    plt.tight_layout()\n",
    "    plt.savefig('AWS_QC_results.png', dpi=700)\n",
    "    \n",
    "elif status in ['FAILED', 'CANCELLED']:\n",
    "    # print terminal message \n",
    "    print('Your task is in terminal status, but has not completed.')\n",
    "\n",
    "else:\n",
    "    # print current status\n",
    "    print('Sorry, your task is still being processed and has not been finalized yet.')"
   ]
  },
  {
   "cell_type": "code",
   "execution_count": 7,
   "id": "38558726-fadc-4ea1-a563-c262a8fce8af",
   "metadata": {},
   "outputs": [
    {
     "name": "stdout",
     "output_type": "stream",
     "text": [
      "Status of (reconstructed) task: COMPLETED\n",
      "\n",
      "\n",
      "10 shots taken on machine arn:aws:braket:::device/qpu/ionq/ionQdevice.\n",
      "\n",
      "Measurement counts: Counter({'00': 5, '11': 4, '01': 1})\n"
     ]
    },
    {
     "data": {
      "image/png": "[encoded data removed]",
      "text/plain": [
       "<Figure size 432x288 with 1 Axes>"
      ]
     },
     "metadata": {
      "needs_background": "light"
     },
     "output_type": "display_data"
    }
   ],
   "source": [
    "task_load = AwsQuantumTask(arn=\"arn:aws:braket:us-east-1:592242689881:quantum-task/0e9e4b53-a989-4589-a90c-0528d28228f4\")\n",
    "\n",
    "# print status\n",
    "status = task_load.state()\n",
    "print('Status of (reconstructed) task:', status)\n",
    "print('\\n')\n",
    "# wait for job to complete\n",
    "# terminal_states = ['COMPLETED', 'FAILED', 'CANCELLED']\n",
    "if status == 'COMPLETED':\n",
    "    # get results\n",
    "    results = task_load.result()\n",
    "    # print(results)\n",
    "    \n",
    "    # get all metadata of submitted task\n",
    "    metadata = task_load.metadata()\n",
    "    # example for metadata\n",
    "    shots = metadata['shots']\n",
    "    machine = metadata['deviceArn']\n",
    "    # print example metadata\n",
    "    print(\"{} shots taken on machine {}.\\n\".format(shots, machine))\n",
    "    \n",
    "    # get measurement counts\n",
    "    counts = results.measurement_counts\n",
    "    print('Measurement counts:', counts)\n",
    "\n",
    "    # plot results: see effects of noise\n",
    "    plt.bar(counts.keys(), counts.values())\n",
    "    plt.xlabel('bitstrings')\n",
    "    plt.ylabel('counts')\n",
    "    plt.tight_layout()\n",
    "    plt.savefig('AWS_QC_results.png', dpi=700)\n",
    "    \n",
    "elif status in ['FAILED', 'CANCELLED']:\n",
    "    # print terminal message \n",
    "    print('Your task is in terminal status, but has not completed.')\n",
    "\n",
    "else:\n",
    "    # print current status\n",
    "    print('Sorry, your task is still being processed and has not been finalized yet.')"
   ]
  },
  {
   "cell_type": "markdown",
   "id": "ee87b580-685b-43ff-a8da-13851ad33ca7",
   "metadata": {},
   "source": [
    "#### Reflecting on the data"
   ]
  },
  {
   "cell_type": "markdown",
   "id": "29234aa0-e117-45e7-8390-23cf23b26d78",
   "metadata": {},
   "source": [
    "Now that we have created a Bell states on two different quantum computers, we should compare the resuslts with the simulator. We have only used 10 shots, or instances, per task so we do not have a vast amount of data to work with. However, there are a few things that stick out. First, is the fact that the IONQ device managed to get a $\\left|01\\right>$ state, when we were only expecting a 50-50 distribution of $\\left|00\\right>$ and $\\left|11\\right>$. Why did this happen? Welcome to the world of quantum error correction. Real life quantum computers are not perfect and they are quite susceptible to errors. The IONQ quantum computer produced an error and managed to get a $\\left|01\\right>$ state. From this very short experiment, we can conclude that the Rigetti quantum computer had a higher fidelity when running our specific job than the IONQ, since the Rigetti hardware produced no clear errors."
   ]
  },
  {
   "cell_type": "code",
   "execution_count": null,
   "id": "66a61e43-6243-4ffc-b09e-0fa6f383fdf4",
   "metadata": {},
   "outputs": [],
   "source": []
  }
 ],
 "metadata": {
  "kernelspec": {
   "display_name": "Python 3 [HAQS-22]",
   "language": "python",
   "name": "python3_haqs_dk5kt8"
  },
  "language_info": {
   "codemirror_mode": {
    "name": "ipython",
    "version": 3
   },
   "file_extension": ".py",
   "mimetype": "text/x-python",
   "name": "python",
   "nbconvert_exporter": "python",
   "pygments_lexer": "ipython3",
   "version": "3.9.10"
  }
 },
 "nbformat": 4,
 "nbformat_minor": 5
}
