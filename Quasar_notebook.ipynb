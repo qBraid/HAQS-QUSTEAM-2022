{
 "cells": [
  {
   "cell_type": "markdown",
   "id": "adae7c89",
   "metadata": {},
   "source": [
    "### Link to the YouTube Video"
   ]
  },
  {
   "cell_type": "markdown",
   "id": "23883fde",
   "metadata": {},
   "source": [
    "[![IMAGE ALT TEXT HERE](https://img.youtube.com/vi/QYL2R5uGPXg/0.jpg)](https://www.youtube.com/watch?v=QYL2R5uGPXg)\n",
    "\n",
    "https://youtu.be/QYL2R5uGPXg"
   ]
  },
  {
   "cell_type": "markdown",
   "id": "3a8c78b7",
   "metadata": {},
   "source": [
    "### Table of Contents\n",
    "\n",
    "* 1 - The QuSTEAM Hackathon Challenge\n",
    "* 2 - Introduction to Entanglement\n",
    "    * 2.1 - What is entanglement?\n",
    "    * 2.2 - Is This real?\n",
    "* 3 - Let's Play Games\n",
    "    * 3.1 - CHSH\n",
    "    * 3.2 - How to Play CHSH\n",
    "    * 3.3 - What Happens in the Classical Situation?\n",
    "    * 3.4 - What about the Quantum Situation?\n",
    "        * 3.4.1 - Tensor Product\n",
    "        * 3.4.2 - In-depth Analysis\n",
    "* 4 - From Theory to Practice\n",
    "    * 4.1 - If a Perfect Quantum Computer Were to Exist...\n",
    "    * 4.2 - But We Do Not Live in a Perfect World...\n",
    "* 5 - Playing the Game on a Quantum Computer\n",
    "* 6 - Real-life Applications\n",
    "* 7 - Conclusion\n",
    "* 8 - References\n",
    "* 9 - Appendix\n",
    "    * 9.1 - Operators on Bits\n",
    "    * 9.2 - Quantum Gate Matrices\n",
    "    * 9.3 - Quantum Computer Code"
   ]
  },
  {
   "cell_type": "markdown",
   "id": "12d41148",
   "metadata": {
    "jp-MarkdownHeadingCollapsed": true,
    "tags": []
   },
   "source": [
    "## 1 - The QuSTEAM Hackathon Challenge<a class=\"anchor\" id=\"objectives\"></a>\n",
    "Goals:\n",
    "\n",
    " * Construct a quantum circuit that entangles qubits.\n",
    " * Investigate entanglement.\n",
    " * Design an experiment to investigate noise in quantum data storage and processing. \n",
    " * At a level accessible to relative beginners, explain the results of an experiment investigating entanglement and noise. "
   ]
  },
  {
   "cell_type": "markdown",
   "id": "2d7d7c69",
   "metadata": {
    "tags": []
   },
   "source": [
    "## 2 - Introduction to Entanglement<a class=\"anchor\" id=\"intro_entang\"></a>\n",
    "\n",
    "\n",
    "### 2.1 - What Is Entanglement? <a class=\"anchor\" id=\"what_is_entang\"></a>\n",
    "\n",
    "In simple terms, *entanglement* is a strong correlation that can occur between quantum systems. Because quantum systems can exist in *superposition*, entanglement arises when two terms of the superposition include different, potentially spacially-separated, systems. Perhaps the most important is the two-qubit state called the *EPR pair.* It is a uniform superposition of both systems being in state $0$ and both systems being in state $1$, and illustrates some of the important oddities of entanglemnent. It has the fascinating property that a measurement in any basis on the first system can always be perfectly predicted by an associated measurement of the second system.\n",
    "\n",
    "A common misconception about entanglement is that properties such as the above permit instantaneous communication. This is not in fact true! There is no way to use *only* entanglement to communicate, so entanglement respects the light-speed communication limit. However, it is an open problem to figure out where exactly entanglement fits between (physical) classical correlations and (unphysical) instantaneous communication."
   ]
  },
  {
   "cell_type": "markdown",
   "id": "fa46e01a",
   "metadata": {
    "jp-MarkdownHeadingCollapsed": true,
    "tags": []
   },
   "source": [
    "### 2.2 Is This Real? <a class=\"anchor\" id=\"is_entang_real\"></a>\n",
    "\n",
    "The phenomenom of entanglement has had a long history of being unpopular, because it exhibits some unintuitive properties. Famously, in 1935, Albert Einstein and his coauthors Boris Podolsky and Nathan Rosen published a paper asking \"Can quantum-mechanical description of physical reality be considered complete?\" [1] Their problem with entanglement was that it implies that there are quantum systems that cannot be described locally. The EPR pair, named after them, was their key example. If the two qubits represent spins of electrons, for example, they could be put into an EPR state, and then sent very far apart --- then measuring one of them causes a change in a distant system. To remedy this, they proposed that there must some *hidden variables* that locally characterise quantum systems.\n",
    "\n",
    "How do we verify if there are hidden variables or not? In 1964, mathematician John Bell came up with a brilliant solution [2]. If there are hidden variables, then there are bounds on the possible correlations, called *Bell inequalitites*, that must always be satisfied. Conversely, a violation of a Bell inequality implies that hidden variables, and hence a local classical description of the system, cannot exist. The challenge is how to construct an experiment that checks for this."
   ]
  },
  {
   "cell_type": "markdown",
   "id": "2bbfa276",
   "metadata": {
    "tags": []
   },
   "source": [
    "## 3 - Let's Play Games <a class=\"anchor\" id=\"lets_play\"></a>\n",
    "\n",
    "One way to handle this is by playing a *game*! You can think of these games as thought experiment. With the players having control of different quantum systems, the rules of the game require them to violate a Bell inequality to win; they try to come up with a strategy that wins with the optimal possible probability. To analyse this, think about playing a game of chess with a friend, but without a board. You can still play the game and make your moves on an imaginary board created in your mind! That is more or less the approach we are taking to showcase the effects of entanglement.\n",
    "\n",
    "### 3.1 - CHSH <a class=\"anchor\" id=\"CHSH\"></a>\n",
    "\n",
    "The example we will consider is the original example introduced by John Clauser, Michael Horne, Abner Shimony, and Richard Holt in 1969, and called the *CHSH game* after them [3]. We use this to show that quantum mechanics freely violates a Bell inequality, implying that there are no hidden variables.\n",
    "\n",
    "The first experiment achieving Bell inequality violation was done in 1983 by Alain Aspect and his coauthors [4], and it was using a design based on the CHSH game. Notably, Aspect and Clauser were two of the recipients of this year's Nobel prize in physics, for their contributions to this line of work."
   ]
  },
  {
   "cell_type": "markdown",
   "id": "0cd06a5c",
   "metadata": {
    "jp-MarkdownHeadingCollapsed": true,
    "tags": []
   },
   "source": [
    "### 3.2 - How to Play CHSH <a class=\"anchor\" id=\"How_to_play\"></a>\n",
    "\n",
    "Now that we have some context about the game, it is time to describe what it is. There are two participants, named Alice and Bob. Their names are chosen so that we can refer to them as $A$ and $B$, respectively. They play cooperatively against the referee. The referee chooses bits $x,y \\in \\{0, 1\\}$ uniformly at random and then sends $x$ to Alice and $y$ to Bob. Upon receiving bits $x$ and $y$, Alice prepares bit $a \\in \\{0,1 \\}$, and similarly Bob prepares bit $b \\in \\{0,1 \\}$. They may do arbitrary *local* actions to prepare these bits, for example they may use entanglement; however, they are not allowed to communicate any information once they receive the bits. If they were allowed to communicate after receving the bits, then they would always win! That is not interesting. The players send bits $a,b$ back to the referee, and she checks if they satisfy $a \\oplus b = x \\wedge y$ (see Appendix 1 for the meaning of these operators). If the equality holds, Alice and Bob win the game. Otherwise, they lose the game. Alice and Bob are allowed to come up with a strategy before they receive bits $x,y$ from the referee. "
   ]
  },
  {
   "cell_type": "markdown",
   "id": "551c9ffc",
   "metadata": {
    "tags": []
   },
   "source": [
    "### 3.3 - What Happens in the Classical Situation?  <a class=\"anchor\" id=\"CHSH_classical\"></a>\n",
    "\n",
    "To analyse the CHSH game, the first question we can ask is what Alice and Bob might do if they could do nothing quantum. For a *classical* strategy, they cannot use entanglement to achieve strong correlation: they can only come up with their answers as functions of their inputs. That is, Alice outputs some $a=f(x)$ and Bob outputs $b=g(y)$. For example, if Alice takes $f(x)=0$ and Bob takes $f(y)=0$, we always have $a\\oplus b=f(x)\\oplus g(y)=0$. As this equals $x\\land y$ for $xy=00,01,10$ -- $3$ of the $4$ cases -- the winning probability is $3/4=75\\%$. It turns out that this is the best that they can do clasically.\n",
    "\n",
    "We can prove this directly using an exhaustive argument. Since the input spaces and output spaces only have $2$ elements each, there are only $4=2^2$ choices of function for each player. That gives $16$ different strategies in total. We present the winning probabilities of all these strategies in the following table."
   ]
  },
  {
   "cell_type": "markdown",
   "id": "636c5455",
   "metadata": {
    "jp-MarkdownHeadingCollapsed": true,
    "tags": []
   },
   "source": [
    "<table width=\"700px\">\n",
    "    <tr>\n",
    "        <th colspan=\"2\"> Alice </th>\n",
    "        <th colspan=\"2\"> Bob </th>\n",
    "        <th colspan=\"4\">On which questions $xy$ are they correct?</th>\n",
    "        <th rowspan=\"2\"> Winning probability</th>\n",
    "    </tr>\n",
    "    <tr>\n",
    "        <td>$f(0)$</td>\n",
    "        <td>$f(1)$</td>\n",
    "        <td>$g(0)$</td>\n",
    "        <td>$g(1)$</td>\n",
    "        <td>$00$</td>\n",
    "        <td>$01$</td>\n",
    "        <td>$10$</td>\n",
    "        <td>$11$</td>\n",
    "    </tr>\n",
    "    <tr>\n",
    "        <td>$0$</td>\n",
    "        <td>$0$</td>\n",
    "        <td>$0$</td>\n",
    "        <td>$0$</td>\n",
    "        <td>$\\checkmark$</td>\n",
    "        <td>$\\checkmark$</td>\n",
    "        <td>$\\checkmark$</td>\n",
    "        <td></td>\n",
    "        <td>$75\\%$</td>\n",
    "    </tr>\n",
    "    <tr>\n",
    "        <td>$0$</td>\n",
    "        <td>$0$</td>\n",
    "        <td>$0$</td>\n",
    "        <td>$1$</td>\n",
    "        <td>$\\checkmark$</td>\n",
    "        <td></td>\n",
    "        <td>$\\checkmark$</td>\n",
    "        <td>$\\checkmark$</td>\n",
    "        <td>$75\\%$</td>\n",
    "    </tr>\n",
    "    <tr>\n",
    "        <td>$0$</td>\n",
    "        <td>$0$</td>\n",
    "        <td>$1$</td>\n",
    "        <td>$0$</td>\n",
    "        <td></td>\n",
    "        <td>$\\checkmark$</td>\n",
    "        <td></td>\n",
    "        <td></td>\n",
    "        <td>$25\\%$</td>\n",
    "    </tr>\n",
    "    <tr>\n",
    "        <td>$0$</td>\n",
    "        <td>$0$</td>\n",
    "        <td>$1$</td>\n",
    "        <td>$1$</td>\n",
    "        <td></td>\n",
    "        <td></td>\n",
    "        <td></td>\n",
    "        <td>$\\checkmark$</td>\n",
    "        <td>$25\\%$</td>\n",
    "    </tr>\n",
    "    <tr>\n",
    "        <td>$0$</td>\n",
    "        <td>$1$</td>\n",
    "        <td>$0$</td>\n",
    "        <td>$0$</td>\n",
    "        <td>$\\checkmark$</td>\n",
    "        <td>$\\checkmark$</td>\n",
    "        <td></td>\n",
    "        <td>$\\checkmark$</td>\n",
    "        <td>$75\\%$</td>\n",
    "    </tr>\n",
    "    <tr>\n",
    "        <td>$0$</td>\n",
    "        <td>$1$</td>\n",
    "        <td>$0$</td>\n",
    "        <td>$1$</td>\n",
    "        <td>$\\checkmark$</td>\n",
    "        <td></td>\n",
    "        <td></td>\n",
    "        <td></td>\n",
    "        <td>$25\\%$</td>\n",
    "    </tr>\n",
    "    <tr>\n",
    "        <td>$0$</td>\n",
    "        <td>$1$</td>\n",
    "        <td>$1$</td>\n",
    "        <td>$0$</td>\n",
    "        <td></td>\n",
    "        <td>$\\checkmark$</td>\n",
    "        <td>$\\checkmark$</td>\n",
    "        <td>$\\checkmark$</td>\n",
    "        <td>$75\\%$</td>\n",
    "    </tr>\n",
    "    <tr>\n",
    "        <td>$0$</td>\n",
    "        <td>$1$</td>\n",
    "        <td>$1$</td>\n",
    "        <td>$1$</td>\n",
    "        <td></td>\n",
    "        <td></td>\n",
    "        <td>$\\checkmark$</td>\n",
    "        <td></td>\n",
    "        <td>$25\\%$</td>\n",
    "    </tr>\n",
    "    <tr>\n",
    "        <td>$1$</td>\n",
    "        <td>$0$</td>\n",
    "        <td>$0$</td>\n",
    "        <td>$0$</td>\n",
    "        <td></td>\n",
    "        <td></td>\n",
    "        <td>$\\checkmark$</td>\n",
    "        <td></td>\n",
    "        <td>$25\\%$</td>\n",
    "    </tr>\n",
    "    <tr>\n",
    "        <td>$1$</td>\n",
    "        <td>$0$</td>\n",
    "        <td>$0$</td>\n",
    "        <td>$1$</td>\n",
    "        <td></td>\n",
    "        <td>$\\checkmark$</td>\n",
    "        <td>$\\checkmark$</td>\n",
    "        <td>$\\checkmark$</td>\n",
    "        <td>$75\\%$</td>\n",
    "    </tr>\n",
    "    <tr>\n",
    "        <td>$1$</td>\n",
    "        <td>$0$</td>\n",
    "        <td>$1$</td>\n",
    "        <td>$0$</td>\n",
    "        <td>$\\checkmark$</td>\n",
    "        <td></td>\n",
    "        <td></td>\n",
    "        <td></td>\n",
    "        <td>$25\\%$</td>\n",
    "    </tr>\n",
    "    <tr>\n",
    "        <td>$1$</td>\n",
    "        <td>$0$</td>\n",
    "        <td>$1$</td>\n",
    "        <td>$1$</td>\n",
    "        <td>$\\checkmark$</td>\n",
    "        <td>$\\checkmark$</td>\n",
    "        <td></td>\n",
    "        <td>$\\checkmark$</td>\n",
    "        <td>$75\\%$</td>\n",
    "    </tr>\n",
    "    <tr>\n",
    "        <td>$1$</td>\n",
    "        <td>$1$</td>\n",
    "        <td>$0$</td>\n",
    "        <td>$0$</td>\n",
    "        <td></td>\n",
    "        <td></td>\n",
    "        <td></td>\n",
    "        <td>$\\checkmark$</td>\n",
    "        <td>$25\\%$</td>\n",
    "    </tr>\n",
    "    <tr>\n",
    "        <td>$1$</td>\n",
    "        <td>$1$</td>\n",
    "        <td>$0$</td>\n",
    "        <td>$1$</td>\n",
    "        <td></td>\n",
    "        <td>$\\checkmark$</td>\n",
    "        <td></td>\n",
    "        <td></td>\n",
    "        <td>$25\\%$</td>\n",
    "    </tr>\n",
    "    <tr>\n",
    "        <td>$1$</td>\n",
    "        <td>$1$</td>\n",
    "        <td>$1$</td>\n",
    "        <td>$0$</td>\n",
    "        <td>$\\checkmark$</td>\n",
    "        <td></td>\n",
    "        <td>$\\checkmark$</td>\n",
    "        <td>$\\checkmark$</td>\n",
    "        <td>$75\\%$</td>\n",
    "    </tr>\n",
    "    <tr>\n",
    "        <td>$1$</td>\n",
    "        <td>$1$</td>\n",
    "        <td>$1$</td>\n",
    "        <td>$1$</td>\n",
    "        <td>$\\checkmark$</td>\n",
    "        <td>$\\checkmark$</td>\n",
    "        <td>$\\checkmark$</td>\n",
    "        <td></td>\n",
    "        <td>$75\\%$</td>\n",
    "    </tr>\n",
    "</table>"
   ]
  },
  {
   "cell_type": "markdown",
   "id": "320931cb",
   "metadata": {
    "jp-MarkdownHeadingCollapsed": true,
    "tags": []
   },
   "source": [
    "This is a functional argument, but not a particularly intuitive one. To simplify things, note that we for any function $f:\\{0,1\\}\\rightarrow\\{0,1\\}$, we can interpolate it as $f(x)=f_0\\oplus f_1\\land x$, where $f_0=f(0)$ and $f_1=f(0)\\oplus f(1)$. Then, the equality that must be satisfied is"
   ]
  },
  {
   "cell_type": "markdown",
   "id": "2f730580",
   "metadata": {
    "jp-MarkdownHeadingCollapsed": true,
    "tags": []
   },
   "source": [
    "$$x\\land y=a\\oplus b=f_0\\oplus g_0\\oplus f_0\\land x\\oplus g_0\\land y,$$"
   ]
  },
  {
   "cell_type": "markdown",
   "id": "6c5b038d",
   "metadata": {
    "jp-MarkdownHeadingCollapsed": true,
    "tags": []
   },
   "source": [
    "which we can rewrite as "
   ]
  },
  {
   "cell_type": "markdown",
   "id": "c6800f69",
   "metadata": {
    "jp-MarkdownHeadingCollapsed": true,
    "tags": []
   },
   "source": [
    "$$(x\\oplus g_0)\\land(y\\oplus f_0)=f_0\\oplus g_0\\oplus f_0\\land g_0.$$"
   ]
  },
  {
   "cell_type": "markdown",
   "id": "6e61d9b2",
   "metadata": {
    "jp-MarkdownHeadingCollapsed": true,
    "tags": []
   },
   "source": [
    "Since $x$ and $y$ are uniformly random, so are $x\\oplus g_0$ and $y\\oplus f_0$, so $(x\\oplus g_0)\\land(y\\oplus f_0)$ is $0$ three quarters of the time and $1$ one quarter of the time. As such, if $f_0\\oplus g_0\\oplus f_0\\land g_0=0$, the winning probability is $75\\%$ and if it is $1$, the winning probability is $25\\%$.\n",
    "\n",
    "This provides a bound  of $75\\%$ for all the classical *deterministic* strategies, where Alice and Bob always do the same thing without randomness. However, classical physics allows allows us to also consider *probabilistic* strategies, where Alice and Bob make use of shared randomness, such as a dice roll. This allows them to make use of correlations, but we will see that these correlations are never as strong as quantum correlations. In this case, Alice and Bob's functions $f$ and $g$ will implicitly depend on some randomness. But, we may assume that that randomness is sampled before the game is played. Then, for each sample, all Alice and Bob do is play with a deterministic strategy, which must have winning probability less than or equal to $75\\%$. As such, but taking the expectation over all random samples, the winning probability remains less than $75\\%$."
   ]
  },
  {
   "cell_type": "markdown",
   "id": "ed3dea73",
   "metadata": {
    "tags": []
   },
   "source": [
    "### 3.4 - What about the Quantum Situation?  <a class=\"anchor\" id=\"CHSH_quantum\"></a>\n",
    "\n",
    "The situation gets more interesting when Alice and Bob are allowed to share an entangled system. This constitutes a *quantum* strategy. To agree on such a strategy, Alice and Bob need a shared entangled state as well as measurements to make on their part of the system for each input bit.\n",
    "\n",
    "### 3.4.1 - Tensor Product <a class=\"anchor\" id=\"tensor\"></a>\n",
    "\n",
    "Mathematically, if the Hilbert spaces of the two systems are $\\mathcal{H}_A$ and $\\mathcal{H}_B$, the space representing the joint states, including the entangled states, is represented by the *tensor product* Hilbert space $\\mathcal{H}_A\\otimes\\mathcal{H}_B$. This is simply the space spanned by kets $\\vert u\\rangle\\otimes\\vert v\\rangle$ for $\\vert u\\rangle\\in\\mathcal{H}_A$ and $\\vert v\\rangle\\in\\mathcal{H}_B$. The tensor product $\\otimes$ behaves somewhat like a matrix product, but it enlarges the space. Importantly, superpositions of states in either of the local systems are respected by the tensor product: for example, $(|u\\rangle+|v\\rangle)\\otimes|w\\rangle=|u\\rangle\\otimes|w\\rangle+|v\\rangle\\otimes|w\\rangle$. Entanglement arises when the state takes at least two tensor terms to represent.\n",
    "\n",
    "As an example, we can use this formalism to represent the EPR pair. Since a single qubit space is spanned by $\\{|0\\rangle,|1\\rangle\\}$, the two qubit space is spanned by $\\{\\vert 0\\rangle\\otimes\\vert 0\\rangle,\\vert 0\\rangle\\otimes\\vert 1\\rangle,\\vert 1\\rangle\\otimes\\vert 0\\rangle,\\vert 1\\rangle\\otimes\\vert 1\\rangle\\}$. In this space, the EPR pair takes the form "
   ]
  },
  {
   "cell_type": "markdown",
   "id": "797446de",
   "metadata": {
    "tags": []
   },
   "source": [
    " $$ \\left \\vert \\mathrm{EPR} \\right \\rangle= \\tfrac{1}{ \\sqrt{2}} \\left( \\left \\vert 0\\right\\rangle\\otimes\\left\\vert 0 \\right \\rangle+ \\vert 1\\right\\rangle\\otimes\\left\\vert 1 \\right \\rangle)$$"
   ]
  },
  {
   "cell_type": "markdown",
   "id": "1a9e1725",
   "metadata": {
    "tags": []
   },
   "source": [
    "### 3.4.2 - In-depth Analysis  <a class=\"anchor\" id=\"analysis_qunatum\"></a>\n",
    "\n",
    "First, we need to now how to represent the winning probability of this strategy. The shared state is represented by a unit vector $\\left\\vert\\psi\\right\\rangle$ in the Hilbert space given by the tensor product of the two players' quantum systems. A measurement in quantum mechanics is represented by an *observable*, which is just a Hermitian operator on the Hilbert space representing the quantum system, whose eigenvalues are the measurement results. Hermitian operators are matrices preserved under complex conjugate transpose and hence have the important property that their eigenvalues are all real. Since both Alice and Bob output bits, we let an eigenvalue $1$ represent the output of a bit $0$ and an eigenvalue of $-1$ represent the output of a bit $1$. We need four observables: $A_0,A_1$ on Alice's system and $B_0,B_1$ on Bob's system, where due to our choice of eigenvalues, they square to the identity. The probability of measuring an outcome on a state is given by the length squared of the vector on the corresponding eigenspace --- for example, the probability that Alice measures bit $0$ with observable $A_0$ and Bob measures bit $1$ with observable $B_0$ is"
   ]
  },
  {
   "cell_type": "markdown",
   "id": "a839ad0e",
   "metadata": {
    "tags": []
   },
   "source": [
    "$$ \\left\\|\\tfrac{1}{2}(I+A_0)\\otimes\\tfrac{1}{2}(I-B_0)\\left\\vert\\psi\\right\\rangle \\right\\|^2=\\left\\langle\\psi\\big\\vert\\tfrac{1}{2}(I+A_0)\\otimes\\tfrac{1}{2}(I-B_0)\\big\\vert\\psi\\right\\rangle. $$"
   ]
  },
  {
   "cell_type": "markdown",
   "id": "e591c95a",
   "metadata": {
    "tags": []
   },
   "source": [
    "Then, as Alice and Bob win if they output $ab=00,11$ for $xy=00,01,10$ and $ab=01,10$ for $xy=11$, the probability, averaged over all questions, that they win the game is"
   ]
  },
  {
   "cell_type": "markdown",
   "id": "f3df2470",
   "metadata": {
    "tags": []
   },
   "source": [
    "$$\\frac{1}{4}\\left\\langle\\psi\\begin{vmatrix}\\tfrac{1}{2}(I+A_0)\\otimes\\tfrac{1}{2}(I+B_0)+\\tfrac{1}{2}(I-A_0)\\otimes\\tfrac{1}{2}(I-B_0)+\\tfrac{1}{2}(I+A_0)\\otimes\\tfrac{1}{2}(I+B_1)+\\tfrac{1}{2}(I-A_0)\\otimes\\tfrac{1}{2}(I-B_1)\\qquad\\\\\\qquad+\\tfrac{1}{2}(I+A_1)\\otimes\\tfrac{1}{2}(I+B_0)+\\tfrac{1}{2}(I-A_1)\\otimes\\tfrac{1}{2}(I-B_0)+\\tfrac{1}{2}(I+A_1)\\otimes\\tfrac{1}{2}(I-B_1)+\\tfrac{1}{2}(I-A_1)\\otimes\\tfrac{1}{2}(I+B_1)\\end{vmatrix}\\psi\\right\\rangle.$$"
   ]
  },
  {
   "cell_type": "markdown",
   "id": "3985f787",
   "metadata": {
    "tags": []
   },
   "source": [
    "This is a bit hard to read! However, by expanding the tensor products, we can simplify it greatly. The winning probability then becomes"
   ]
  },
  {
   "cell_type": "markdown",
   "id": "3f766b0e",
   "metadata": {
    "tags": []
   },
   "source": [
    "$$\\frac{1}{2}+\\frac{1}{8}\\left\\langle\\psi\\vert A_0\\otimes B_0+A_0\\otimes B_1+A_1\\otimes B_0-A_1\\otimes B_1\\vert\\psi\\right\\rangle.$$"
   ]
  },
  {
   "cell_type": "markdown",
   "id": "4ddc176a",
   "metadata": {
    "tags": []
   },
   "source": [
    "We can use this expression to find the winning probability of an explicit strategy. First, take the shared state to be the maximally entangled EPR pair $\\left\\vert\\psi\\right\\rangle=\\left\\vert\\text{EPR}\\right\\rangle=\\frac{1}{\\sqrt{2}}(\\left\\vert 0\\right\\rangle\\otimes \\left\\vert 0\\right\\rangle+\\left\\vert 1\\right\\rangle\\otimes \\left\\vert 1\\right\\rangle)$. Next, Alice takes her measurement observables to be Pauli operators $A_0=Z$ and $A_1=X$, where the matrix representations"
   ]
  },
  {
   "cell_type": "markdown",
   "id": "3ceea34b",
   "metadata": {
    "tags": []
   },
   "source": [
    "$$ Z=\\begin{bmatrix}1& 0\\\\ 0& -1\\end{bmatrix}\\qquad X=\\begin{bmatrix}0& 1\\\\ 1& 0\\end{bmatrix};$$"
   ]
  },
  {
   "cell_type": "markdown",
   "id": "97e2db47",
   "metadata": {
    "tags": []
   },
   "source": [
    "and Bob takes his observables to be the Hadamard operator $B_0=H$ and a twisted version $B_1=ZHZ$, where"
   ]
  },
  {
   "cell_type": "markdown",
   "id": "24548579",
   "metadata": {
    "tags": []
   },
   "source": [
    "$$ H=\\frac{1}{\\sqrt{2}}\\begin{bmatrix}1& 1\\\\ 1& -1\\end{bmatrix}\\qquad ZHZ=\\frac{1}{\\sqrt{2}}\\begin{bmatrix}1& -1\\\\ -1& -1\\end{bmatrix};$$"
   ]
  },
  {
   "attachments": {
    "b9574fdd-d902-450d-a23b-f3483adb53d2.png": {
     "image/png": "[encoded data removed]"
    }
   },
   "cell_type": "markdown",
   "id": "c07c828c",
   "metadata": {
    "tags": []
   },
   "source": [
    "As these are one-qubit operators, we can represent the measurement bases, that is the bases that diagonalise these operators, on the Bloch sphere:\n",
    "\n",
    "![cover(3).png](attachment:b9574fdd-d902-450d-a23b-f3483adb53d2.png)\n",
    "\n",
    "By doing the calculations, we can show that "
   ]
  },
  {
   "cell_type": "markdown",
   "id": "25e7f0c9",
   "metadata": {
    "tags": []
   },
   "source": [
    "$$\\left\\langle\\text{EPR}\\vert Z\\otimes H+Z\\otimes ZHZ+X\\otimes H-X\\otimes ZHZ\\vert\\text{EPR}\\right\\rangle=2\\sqrt{2},$$"
   ]
  },
  {
   "cell_type": "markdown",
   "id": "1d0c2a3f",
   "metadata": {
    "tags": []
   },
   "source": [
    "and hence their winning probability is $\\frac{1}{2}+\\frac{1}{2\\sqrt{2}}=\\cos^2 \\left(\\frac{\\pi}{8} \\right) \\approx 0.85$. So by sharing an entangled state, they improve their odds of winning by about 10% compared to the classical case. "
   ]
  },
  {
   "cell_type": "markdown",
   "id": "655742bc",
   "metadata": {
    "tags": []
   },
   "source": [
    "**Bonus material:** It turns out that the above strategy is optimal among the quantum strategies, in the sense that no quantum strategy wins with probability greater than $\\cos^2 \\left(\\frac{\\pi}{8} \\right)$. This result is called *Tsirelson's bound* [5]. To show this, make use of the operator norm of matrices, which is simply a measure of length. The most important property of this norm is that, for Hermitian matrices, the operator norm is simply the largest value among the absolute values of the eigenvalues. As such, for any strategy "
   ]
  },
  {
   "cell_type": "markdown",
   "id": "57e3d151",
   "metadata": {
    "tags": []
   },
   "source": [
    "$$\\left\\langle\\psi\\vert A_0\\otimes B_0+A_0\\otimes B_1+A_1\\otimes B_0-A_1\\otimes B_1\\vert\\psi\\right\\rangle\\leq\\left\\| A_0\\otimes B_0+A_0\\otimes B_1+A_1\\otimes B_0-A_1\\otimes B_1\\right\\|,$$"
   ]
  },
  {
   "cell_type": "markdown",
   "id": "f002251d",
   "metadata": {
    "tags": []
   },
   "source": [
    "so all we need to show is that is less than $2\\sqrt{2}$. Squaring this, we observe that"
   ]
  },
  {
   "cell_type": "markdown",
   "id": "430fb6da",
   "metadata": {
    "tags": []
   },
   "source": [
    "$$ (A_0\\otimes B_0+A_0\\otimes B_1+A_1\\otimes B_0-A_1\\otimes B_1)^2= 4I-[A_0,A_1]\\otimes[B_0,B_1],$$"
   ]
  },
  {
   "cell_type": "markdown",
   "id": "61167d27",
   "metadata": {
    "tags": []
   },
   "source": [
    "where $[A,B]=AB-BA$ is the *commutator*. The norm of a commutator $\\left\\|[A,B]\\right\\|\\leq 2\\|A\\|\\,\\|B\\|$, so"
   ]
  },
  {
   "cell_type": "markdown",
   "id": "b9dfebde",
   "metadata": {
    "tags": []
   },
   "source": [
    "$$\\left\\|4I-[A_0,A_1]\\otimes[B_0,B_1]\\right\\|\\leq 4\\|I\\|+\\|[A_0,A_1]\\|\\,\\|[B_0,B_1]\\|\\leq 8.$$"
   ]
  },
  {
   "cell_type": "markdown",
   "id": "8d3ec3d1",
   "metadata": {
    "tags": []
   },
   "source": [
    "Finally, noting that $A_0\\otimes B_0+A_0\\otimes B_1+A_1\\otimes B_0-A_1\\otimes B_1$ is Hermitian, we get that"
   ]
  },
  {
   "cell_type": "markdown",
   "id": "8e2a6dfa",
   "metadata": {
    "tags": []
   },
   "source": [
    "$$\\left\\|A_0\\otimes B_0+A_0\\otimes B_1+A_1\\otimes B_0-A_1\\otimes B_1\\right\\|=\\sqrt{\\left\\|(A_0\\otimes B_0+A_0\\otimes B_1+A_1\\otimes B_0-A_1\\otimes B_1)^2\\right\\|}\\leq 2\\sqrt{2}.$$"
   ]
  },
  {
   "cell_type": "markdown",
   "id": "c5f0269e",
   "metadata": {},
   "source": [
    "## 4 - From Theory to Practice <a class=\"anchor\" id=\"theo_prac\"></a>\n",
    "\n",
    "### 4.1 - If a Perfect Quantum Computer Were to Exist... <a class=\"anchor\" id=\"perfect_qc\"></a>\n",
    "\n",
    "We use the Amazon Bracket package to simulate quantum computations. The simulator works by representing the unitary quantum gates as matrices and then computing the amplitudes of the quantum state. Then, to get a measurement result, it samples from the probability distribution given by the moduli squared of the amplitudes. Compared to a quantum computer, this kind of procedure is inefficient, as it runs in time exponential in the number of qubits, but it allows an idealised quantum computation to be run on a classical computer.\n",
    "\n",
    "First, we import the necessary packages."
   ]
  },
  {
   "cell_type": "code",
   "execution_count": 1,
   "id": "e5343d25",
   "metadata": {},
   "outputs": [
    {
     "name": "stdout",
     "output_type": "stream",
     "text": [
      "Gate set supported by SDK:\n",
      " ['CCNot', 'CNot', 'CPhaseShift', 'CPhaseShift00', 'CPhaseShift01', 'CPhaseShift10', 'CSwap', 'CV', 'CY', 'CZ', 'ECR', 'H', 'I', 'ISwap', 'PSwap', 'PhaseShift', 'Rx', 'Ry', 'Rz', 'S', 'Si', 'Swap', 'T', 'Ti', 'Unitary', 'V', 'Vi', 'X', 'XX', 'XY', 'Y', 'YY', 'Z', 'ZZ']\n"
     ]
    }
   ],
   "source": [
    "import numpy as np\n",
    "import matplotlib.pyplot as plt\n",
    "%matplotlib inline\n",
    "import string, time, random\n",
    "\n",
    "# AWS imports: Import Braket SDK modules\n",
    "from braket.circuits import Circuit, Gate, Instruction, circuit, Observable, Noise\n",
    "from braket.devices import LocalSimulator\n",
    "from braket.aws import AwsDevice, AwsQuantumTask\n",
    "s3_folder = (\"dummy_variable\", \"dummy_variable\")\n",
    "\n",
    "gate_set = [attr for attr in dir(Gate) if attr[0] in string.ascii_uppercase]\n",
    "print('Gate set supported by SDK:\\n', gate_set) "
   ]
  },
  {
   "cell_type": "markdown",
   "id": "69813965",
   "metadata": {},
   "source": [
    "The list above gives us the quantum gates that the simulator can run. These in fact form a universal gate set, and we will see that they are at least sufficient to run the optimal CHSH game strategy.\n",
    "\n",
    "First, in order to construct the optimal strategy, we need to be able to generate EPR pairs. There is a standard way to generate this state with a two qubit quantum circuit. As usual, each of the qubits starts in the computational basis state $\\left|0\\right\\rangle$. The circuit proceeds in two steps\n",
    "\n",
    "1. Using the Hadamard gate, the state is put into the superposition $\\tfrac{1}{\\sqrt{2}}\\big(\\left|0\\right>+\\left|1\\right>\\big)$.\n",
    "\n",
    "2. To entangle the qubits, the two-qubit conditioned not (CNOT or CX) is used. This is the unitary $\\left|0\\right>\\!\\left<0\\right|\\otimes I+\\left|1\\right>\\!\\left<1\\right|\\otimes X$, that only acts as Pauli $X$ on the second qubit on the terms in state $\\left|1\\right>$ in the first qubit.\n",
    "\n",
    "In the Braket package, this circuit takes the following form."
   ]
  },
  {
   "cell_type": "code",
   "execution_count": 2,
   "id": "5f8bd87b",
   "metadata": {},
   "outputs": [
    {
     "name": "stdout",
     "output_type": "stream",
     "text": [
      "T  : |0|1|\n",
      "          \n",
      "q0 : -H-C-\n",
      "        | \n",
      "q1 : ---X-\n",
      "\n",
      "T  : |0|1| <class 'braket.circuits.circuit.Circuit'>\n"
     ]
    }
   ],
   "source": [
    "bell = Circuit().h(0).cnot(0, 1)\n",
    "print(bell, type(bell))"
   ]
  },
  {
   "cell_type": "markdown",
   "id": "b704e840",
   "metadata": {},
   "source": [
    "As a warm-up to playing the CHSH game, we run a program that measures the simple EPR pair preparation circuit in in the computational basis. It prepares the state and the measures it 1000 times."
   ]
  },
  {
   "cell_type": "code",
   "execution_count": 3,
   "id": "71be04c9",
   "metadata": {},
   "outputs": [
    {
     "name": "stdout",
     "output_type": "stream",
     "text": [
      "Counter({'00': 509, '11': 491})\n"
     ]
    }
   ],
   "source": [
    "device = LocalSimulator()\n",
    "result = device.run(bell, shots=1000).result()\n",
    "counts = result.measurement_counts\n",
    "print(counts)"
   ]
  },
  {
   "cell_type": "markdown",
   "id": "e1f2c9ef",
   "metadata": {},
   "source": [
    "As expected, since the EPR pair is an equal superposition of the kets $|00\\rangle$ and $|11\\rangle$, there are about 500 measurements of each. We can visualise this with a simple bar graph. "
   ]
  },
  {
   "cell_type": "code",
   "execution_count": 4,
   "id": "b226616d",
   "metadata": {},
   "outputs": [
    {
     "data": {
      "text/plain": [
       "Text(0, 0.5, 'counts')"
      ]
     },
     "execution_count": 4,
     "metadata": {},
     "output_type": "execute_result"
    },
    {
     "data": {
      "image/png": "[encoded data removed]",
      "text/plain": [
       "<Figure size 432x288 with 1 Axes>"
      ]
     },
     "metadata": {
      "needs_background": "light"
     },
     "output_type": "display_data"
    }
   ],
   "source": [
    "plt.bar(counts.keys(), counts.values())\n",
    "plt.xlabel('bitstrings')\n",
    "plt.ylabel('counts')"
   ]
  },
  {
   "cell_type": "markdown",
   "id": "c4568037",
   "metadata": {},
   "source": [
    "Now, we can create the circuits for the optimal CHSH game strategy. As there are four possible question pairs, there are four associated circuits. Each circuit consists of an EPR pair preparation, as above, followed by local unitaries that diagonalise the associated measurement observable, so that measurement by that observable is achieved by computational basis measurement.\n",
    "\n",
    "For $xy=00$, Alice's observable is $Z$, which is diagionalised by identity $I$; and Bob's observable is $H$, which is diagonalised by"
   ]
  },
  {
   "cell_type": "markdown",
   "id": "2d6115e4",
   "metadata": {},
   "source": [
    "$$B=\\begin{bmatrix}\\cos\\tfrac{\\pi}{8}&\\sin\\tfrac{\\pi}{8}\\\\\\sin\\tfrac{\\pi}{8}&-\\cos\\tfrac{\\pi}{8}\\end{bmatrix},$$"
   ]
  },
  {
   "cell_type": "markdown",
   "id": "84021f43",
   "metadata": {},
   "source": [
    "so the circuit prepares $(I\\otimes B)|\\text{EPR}\\rangle$. In the given gate set, we need to decompose $B=SHTHS$ (the matrix representations of these gates are included in Appendix 2), so the circuit is prepared as"
   ]
  },
  {
   "cell_type": "code",
   "execution_count": 5,
   "id": "003c63c4",
   "metadata": {},
   "outputs": [
    {
     "name": "stdout",
     "output_type": "stream",
     "text": [
      "T  : |0|1|2|3|4|5|6|\n",
      "                    \n",
      "q0 : -H-C-----------\n",
      "        |           \n",
      "q1 : ---X-S-H-T-H-S-\n",
      "\n",
      "T  : |0|1|2|3|4|5|6|\n"
     ]
    }
   ],
   "source": [
    "bell00 = Circuit().h(0).cnot(0, 1).s(1).h(1).t(1).h(1).s(1)\n",
    "print(bell00)"
   ]
  },
  {
   "cell_type": "markdown",
   "id": "555f0735",
   "metadata": {},
   "source": [
    "Next, for $xy=01$, Alice's question is the same, so her action does not change. However, Bob must act now by the matrix that diagonalises $ZHZ$, which is $BZ=HB$, so the circuit prepares $(I\\otimes HB)|\\text{EPR}\\rangle$ as"
   ]
  },
  {
   "cell_type": "code",
   "execution_count": 6,
   "id": "da98c98b",
   "metadata": {},
   "outputs": [
    {
     "name": "stdout",
     "output_type": "stream",
     "text": [
      "T  : |0|1|2|3|4|5|6|7|\n",
      "                      \n",
      "q0 : -H-C-------------\n",
      "        |             \n",
      "q1 : ---X-S-H-T-H-S-H-\n",
      "\n",
      "T  : |0|1|2|3|4|5|6|7|\n"
     ]
    }
   ],
   "source": [
    "bell01 = Circuit().h(0).cnot(0, 1).s(1).h(1).t(1).h(1).s(1).h(1)\n",
    "print(bell01)"
   ]
  },
  {
   "cell_type": "markdown",
   "id": "e687a55f",
   "metadata": {},
   "source": [
    "For $xy=10$, Alice's action must change: she acts with $H$, as this diagonalises $X=HZH$. Bob acts again with $B$ to prepare the state $(H\\otimes B)|\\text{EPR}\\rangle$ as"
   ]
  },
  {
   "cell_type": "code",
   "execution_count": 7,
   "id": "f5bb65bf",
   "metadata": {},
   "outputs": [
    {
     "name": "stdout",
     "output_type": "stream",
     "text": [
      "T  : |0|1|2|3|4|5|6|\n",
      "                    \n",
      "q0 : -H-C-H---------\n",
      "        |           \n",
      "q1 : ---X-S-H-T-H-S-\n",
      "\n",
      "T  : |0|1|2|3|4|5|6|\n"
     ]
    }
   ],
   "source": [
    "bell10 = Circuit().h(0).cnot(0, 1).h(0).s(1).h(1).t(1).h(1).s(1)\n",
    "print(bell10)"
   ]
  },
  {
   "cell_type": "markdown",
   "id": "0903b250",
   "metadata": {},
   "source": [
    "Finally, for $xy=11$, the strategy prepares the state $(H\\otimes HB)|\\text{EPR}\\rangle$ with circuit"
   ]
  },
  {
   "cell_type": "code",
   "execution_count": 8,
   "id": "25a94964",
   "metadata": {},
   "outputs": [
    {
     "name": "stdout",
     "output_type": "stream",
     "text": [
      "T  : |0|1|2|3|4|5|6|7|\n",
      "                      \n",
      "q0 : -H-C-H-----------\n",
      "        |             \n",
      "q1 : ---X-S-H-T-H-S-H-\n",
      "\n",
      "T  : |0|1|2|3|4|5|6|7|\n"
     ]
    }
   ],
   "source": [
    "bell11 = Circuit().h(0).cnot(0, 1).h(0).s(1).h(1).t(1).h(1).s(1).h(1)\n",
    "print(bell11)"
   ]
  },
  {
   "cell_type": "markdown",
   "id": "66877c49",
   "metadata": {},
   "source": [
    "Now, using these circuits, we are able to simulate the CHSH game. We play 200 rounds of the game and keep track of the cumulative win rate."
   ]
  },
  {
   "cell_type": "code",
   "execution_count": 9,
   "id": "1d465ac3",
   "metadata": {},
   "outputs": [
    {
     "name": "stdout",
     "output_type": "stream",
     "text": [
      "0.85\n"
     ]
    }
   ],
   "source": [
    "strategy=[[bell00,bell01],[bell10,bell11]] #Array where the circuits are stored\n",
    "\n",
    "winnum=0 \n",
    "winarray=[0] #Store the number of wins and the win rate for eac number of runs\n",
    "runs=200 #Total number of runs\n",
    "i=0\n",
    "while i<runs: #We play many independent rounds of the CHSH game\n",
    "    x=random.randint(0,1)\n",
    "    y=random.randint(0,1) #Generate the questions randomly\n",
    "    result=device.run(strategy[x][y], shots=1).result() #Get the measurement result for the right circuit for these questions\n",
    "    outstr=list(result.measurement_counts.keys())[0]\n",
    "    a=int(outstr[0])\n",
    "    b=int(outstr[1]) #Convert the outputted object to Alice and Bob's answers\n",
    "    if x*y == (a+b)%2: #If the winning condition is achieved\n",
    "        winnum+=1 #The total number of wins is updated\n",
    "    winarray.append(winnum/(i+1)) #Update the cumulative win rate\n",
    "    i+=1\n",
    "print(winnum/runs)"
   ]
  },
  {
   "cell_type": "markdown",
   "id": "6635fbec",
   "metadata": {},
   "source": [
    "We see that the output, the win rate, is close to the expected winning probability. Since we kept track of the cumulative win rate, we can plot how it approaches the optimal winning probability in a stochastic way."
   ]
  },
  {
   "cell_type": "code",
   "execution_count": 10,
   "id": "e80ca961",
   "metadata": {},
   "outputs": [
    {
     "data": {
      "image/png": "[encoded data removed]",
      "text/plain": [
       "<Figure size 1080x360 with 1 Axes>"
      ]
     },
     "metadata": {
      "needs_background": "light"
     },
     "output_type": "display_data"
    }
   ],
   "source": [
    "fig, ax = plt.subplots(figsize=(15,5))\n",
    "\n",
    "ax.plot([0,runs],[0.85355,0.85355],color=\"orange\",label=\"Expected optimal win rate\")\n",
    "ax.fill_between(range(0,runs+1),[0]+[max(0.85355-1/np.sqrt(8*n),0) for n in range(1,runs+1)],[1]+[min(0.85355+1/np.sqrt(8*n),1) for n in range(1,runs+1)],linewidth=0,alpha=0.2,color=\"orange\",label=\"Standard deviation\")\n",
    "ax.step(range(runs+1), winarray,color=\"steelblue\",label=\"Cumulative win rate\")\n",
    "ax.set_xlabel('rounds played')\n",
    "ax.set_ylabel('win rate')\n",
    "\n",
    "ax.legend(loc=\"lower right\")\n",
    "\n",
    "plt.show()"
   ]
  },
  {
   "cell_type": "markdown",
   "id": "1238f18b",
   "metadata": {},
   "source": [
    "### 4.2 - But We Do Not Live in a Perfect World...<a class=\"anchor\" id=\"not_perfect\"></a>\n",
    "\n",
    "To simulate a more realistic device, we need to introduce *noise* into our ideal model. We may construct the circuits of the strategy in the same way, but now on a simulated noisy device."
   ]
  },
  {
   "cell_type": "code",
   "execution_count": 11,
   "id": "64b49dd1",
   "metadata": {},
   "outputs": [],
   "source": [
    "#Define noise model\n",
    "ndevice=LocalSimulator(\"braket_dm\")\n",
    "\n",
    "noise=Noise.Depolarizing(probability=0.01)\n",
    "\n",
    "nbell00 = Circuit().h(0).cnot(0, 1).s(1).h(1).t(1).h(1).s(1)\n",
    "nbell01 = Circuit().h(0).cnot(0, 1).s(1).h(1).t(1).h(1).s(1).h(1)\n",
    "nbell10 = Circuit().h(0).cnot(0, 1).h(0).s(1).h(1).t(1).h(1).s(1)\n",
    "nbell11 = Circuit().h(0).cnot(0, 1).h(0).s(1).h(1).t(1).h(1).s(1).h(1)\n",
    "\n",
    "nbell00.apply_gate_noise(noise)\n",
    "nbell01.apply_gate_noise(noise)\n",
    "nbell10.apply_gate_noise(noise)\n",
    "nbell11.apply_gate_noise(noise);"
   ]
  },
  {
   "cell_type": "markdown",
   "id": "9227f45c",
   "metadata": {},
   "source": [
    "We play the CHSH game in the same way on this noisy device to come up with the win rate after 200 rounds."
   ]
  },
  {
   "cell_type": "code",
   "execution_count": 12,
   "id": "6d469be4",
   "metadata": {},
   "outputs": [
    {
     "name": "stdout",
     "output_type": "stream",
     "text": [
      "0.845\n"
     ]
    }
   ],
   "source": [
    "nstrategy=[[nbell00,nbell01],[nbell10,nbell11]]\n",
    "\n",
    "nwinnum=0\n",
    "nwinarray=[0]\n",
    "nruns=200\n",
    "i=0\n",
    "while i<nruns:\n",
    "    x=random.randint(0,1)\n",
    "    y=random.randint(0,1)\n",
    "    result=ndevice.run(nstrategy[x][y], shots=1).result()\n",
    "    outstr=list(result.measurement_counts.keys())[0]\n",
    "    a=int(outstr[0])\n",
    "    b=int(outstr[1])\n",
    "    if x*y == (a+b)%2:\n",
    "        nwinnum+=1\n",
    "    nwinarray.append(nwinnum/(i+1))\n",
    "    i+=1\n",
    "print(nwinnum/nruns)"
   ]
  },
  {
   "cell_type": "markdown",
   "id": "392d7471",
   "metadata": {},
   "source": [
    "Playing the game with noise, we see that the win rate usually is worse than in the ideal case. However, the rate still indicates a winning probability that is better than anything classically achievable. We illustrate this distinction using the cumulative win rate below."
   ]
  },
  {
   "cell_type": "code",
   "execution_count": 13,
   "id": "c74a2729",
   "metadata": {},
   "outputs": [
    {
     "data": {
      "image/png": "[encoded data removed]",
      "text/plain": [
       "<Figure size 1080x360 with 1 Axes>"
      ]
     },
     "metadata": {
      "needs_background": "light"
     },
     "output_type": "display_data"
    }
   ],
   "source": [
    "nfig, nax = plt.subplots(figsize=(15,5))\n",
    "\n",
    "nax.plot([0,nruns],[0.85355,0.85355],color=\"orange\",label=\"Expected optimal win rate\")\n",
    "nax.plot([0,nruns],[0.75,0.75],color=\"red\",label=\"Classical limit\")\n",
    "nax.step(range(nruns+1), nwinarray,color=\"steelblue\",label=\"Cumulative win rate\")\n",
    "\n",
    "nax.plot([0],[1],alpha=0)\n",
    "nax.set_xlabel('rounds played')\n",
    "nax.set_ylabel('win rate')\n",
    "\n",
    "nax.legend(loc=\"lower right\")\n",
    "\n",
    "plt.show()"
   ]
  },
  {
   "cell_type": "markdown",
   "id": "c8a2f902",
   "metadata": {
    "tags": []
   },
   "source": [
    "### 5 - Playing the Game on a Quantum Computer <a class=\"anchor\" id=\"CHSH_on_qc\"></a>"
   ]
  },
  {
   "cell_type": "markdown",
   "id": "6d8d96ba",
   "metadata": {
    "tags": []
   },
   "source": [
    "Now, we can adapt these circits to run the CHSH game on a real quantum device. We worked with the IonQ computer. We had to tweak our code slightly in order to achieve this in a reasonable timeframe. In the simulator, we were able to run play each of the runs separately. But, in the real quantum compter, this would necessitate 200 separate calls to the device, which is unfeasible. Instead, we ran the calls for each of the question pairs concurrently, in blocks of 50 each. This saved time and resources, but requires the device to be more trusted than for questions chosen randomly. The code we ran to undertake this experiment is included in Appendix 3. We present the results of our experiment below."
   ]
  },
  {
   "cell_type": "markdown",
   "id": "3293c62d",
   "metadata": {
    "tags": []
   },
   "source": [
    "<table width=\"300px\">\n",
    "    <tr>\n",
    "        <th colspan=\"2\"> Questions </th>\n",
    "        <th rowspan=\"2\"> Wins out of $50$</th>\n",
    "    </tr>\n",
    "    <tr>\n",
    "        <td>$x$</td>\n",
    "        <td>$y$</td>\n",
    "    </tr>\n",
    "    <tr>\n",
    "        <td>$0$</td>\n",
    "        <td>$0$</td>\n",
    "        <td>$37$</td>\n",
    "    </tr>\n",
    "    <tr>\n",
    "        <td>$0$</td>\n",
    "        <td>$1$</td>\n",
    "        <td>$43$</td>\n",
    "    </tr>\n",
    "    <tr>\n",
    "        <td>$1$</td>\n",
    "        <td>$0$</td>\n",
    "        <td>$45$</td>\n",
    "    </tr>\n",
    "    <tr>\n",
    "        <td>$1$</td>\n",
    "        <td>$1$</td>\n",
    "        <td>$36$</td>\n",
    "    </tr>\n",
    "</table>"
   ]
  },
  {
   "cell_type": "markdown",
   "id": "9f858170",
   "metadata": {},
   "source": [
    "As we will see, these are good results!"
   ]
  },
  {
   "cell_type": "code",
   "execution_count": 14,
   "id": "40b0d758",
   "metadata": {},
   "outputs": [],
   "source": [
    "hardcoded_wins=(37+43+45+36)\n",
    "hardcoded_runs=50"
   ]
  },
  {
   "cell_type": "markdown",
   "id": "cea955bd",
   "metadata": {},
   "source": [
    "To compare it to to the previous results using the same plot, we suppose a random order of the wins and use that to compute the cumulative win rate."
   ]
  },
  {
   "cell_type": "code",
   "execution_count": 15,
   "id": "079f246c",
   "metadata": {},
   "outputs": [
    {
     "name": "stdout",
     "output_type": "stream",
     "text": [
      "0.805\n"
     ]
    }
   ],
   "source": [
    "totwins= [1]*(hardcoded_wins) + [0]*(4*hardcoded_runs-hardcoded_wins)\n",
    "\n",
    "cwinnum=0\n",
    "cwinarray=[0]\n",
    "while len(totwins)>0:\n",
    "    n=random.randint(0,len(totwins)-1)\n",
    "    cwinnum+=totwins[n]\n",
    "    cwinarray.append(cwinnum/(4*hardcoded_runs-len(totwins)+1))\n",
    "    totwins.pop(n)\n",
    "print(cwinnum/(4*hardcoded_runs))"
   ]
  },
  {
   "cell_type": "markdown",
   "id": "342999a2",
   "metadata": {},
   "source": [
    "This win rate is above the classical limit, but not quite optimal."
   ]
  },
  {
   "cell_type": "code",
   "execution_count": 16,
   "id": "98002fc1",
   "metadata": {},
   "outputs": [
    {
     "data": {
      "image/png": "[encoded data removed]",
      "text/plain": [
       "<Figure size 1080x360 with 1 Axes>"
      ]
     },
     "metadata": {
      "needs_background": "light"
     },
     "output_type": "display_data"
    }
   ],
   "source": [
    "fig, ax = plt.subplots(figsize=(15,5))\n",
    "\n",
    "ax.plot([0,runs],[0.85355,0.85355],color=\"orange\",label=\"Expected optimal win rate\")\n",
    "ax.plot([0,4*hardcoded_runs+1],[0.75,0.75],color=\"red\",label=\"Classical limit\")\n",
    "ax.step(range(4*hardcoded_runs+1), cwinarray,color=\"steelblue\",label=\"Cumulative win rate\")\n",
    "ax.set_xlabel('rounds played')\n",
    "ax.set_ylabel('win rate')\n",
    "\n",
    "ax.legend(loc=\"lower right\")\n",
    "\n",
    "plt.show()"
   ]
  },
  {
   "cell_type": "markdown",
   "id": "3a364f62",
   "metadata": {
    "tags": []
   },
   "source": [
    "As can be seen, the win rate remains well above the classical limit, and hence the experiment serves as a verification of entanglement. However, the noise of a real system keeps it below the optimal value. "
   ]
  },
  {
   "cell_type": "markdown",
   "id": "492fa456",
   "metadata": {
    "tags": []
   },
   "source": [
    "## 6 -  Real-life Applications <a class=\"anchor\" id=\"rl_applications\"></a>\n",
    "\n",
    "The CHSH game and its implications enable powerful applications. By using the CHSH game as a test of quantumness, we can certify untrusted devices, servers, etc. An application where this is used is the area of device-independence, which, put simply, describes the notion of not trusting a device. There is good reason to not trust a device, as it could be faulty or could have been manufactured by a malicious individual, and it may be impractical to open up the device to inspect it. Device-independent protocols remove the assumption that the device is trusted, thereby providing a strong form of security that is often referred to as the gold standard of security. A typical way to prove the security of device-independent protocols is to play the CHSH game with the device: if the CHSH game is won with probability better than 75%, then we know that the device must have prepared an entangled quantum state and this certifies the honesty of the device.\n",
    "\n",
    "Similarly, the CHSH game may be used in delegated quantum computation, which describes the highly relevant situation where a client (who lacks quantum computational resources) wishes to delegate a quantum computation to a server that has the necessary resources to execute the computation. It is natural that in delegating the computation, the client would like to verify that the computation was performed as desired, and for this the CHSH game may be used. To be specific, we can consider a classical client interacting with two non-communicating quantum servers that share many entangled qubits to execute the computation. The client can verify the computation by having the servers randomly play the CHSH game throughout the computation and then observe if the game was won with sufficiently high probability. "
   ]
  },
  {
   "cell_type": "markdown",
   "id": "770e1328",
   "metadata": {},
   "source": [
    "## 7 - Conclusion"
   ]
  },
  {
   "cell_type": "markdown",
   "id": "dcacec8d",
   "metadata": {},
   "source": [
    "We constructed a quantum circuit that entangle qubits, and we analyzed it outcomes by playing the CHSH game. \n",
    "\n",
    "We simulated the noise model in a quantum computer, and we saw that it reduces that chance of winning of CHSH game. After playing the game on a quantum computer, we see the experimental results match the expected results closely enough to demonstrate entanglement. \n",
    "\n",
    "In conclusion, entanglement, with all of its counter-intuitive implications, is a very real thing! \n",
    "\n",
    "Thank you for following along!"
   ]
  },
  {
   "cell_type": "markdown",
   "id": "8cbff32a",
   "metadata": {
    "tags": []
   },
   "source": [
    "## 8 - References <a class=\"anchor\" id=\"refs\"></a>\n",
    "\n",
    "1. A. Einstein, B. Podolsky, and N. Rosen. Can quantum-mechanical description of physical reality be considered complete? *Physical Review Letters*, 47(10): 777–780, 1935.\n",
    "\n",
    "2. J. S. Bell. On the Einstein-Podolsky-Rosen paradox. *Physics 1*, pages 195–200, 1964.\n",
    "\n",
    "3. J. F. Clauser, M. A. Horne., A. Shimony, and R. A. Holt. Proposed experiment to test local hidden-variable theories. *Physical Review Letters*, 23(15): 880–884, 1969.\n",
    "\n",
    "4. A. Aspect, J. Dalibard, and G. Roger. Experimental test of Bell’s inequalities using time-varying analyzers. *Physical review letters*, 49(25): 1804, 1982.\n",
    "\n",
    "5. B. Tsirelson. Quantum generalizations of Bell’s inequality. *Letters in Mathematical Physics*, 4(2): 93–100, 1980."
   ]
  },
  {
   "cell_type": "markdown",
   "id": "fd672ffc",
   "metadata": {},
   "source": [
    "## 9 - Appendix <a class=\"anchor\" id=\"appnedix\"></a>\n",
    "\n",
    "### 9.1 - Operators on Bits <a class=\"anchor\" id=\"bit-ops\"></a>\n",
    "\n",
    "$\\oplus$ denotes the XOR operator and $\\wedge$ denotes the AND operator. They are binary operators, like addition and multiplication, that act on the space of a bit. We represent their actions by means of truth tables, included below."
   ]
  },
  {
   "cell_type": "markdown",
   "id": "95e66dae",
   "metadata": {},
   "source": [
    "<div style=\"float:left;width:50%;\">\n",
    "    XOR $\\oplus$:\n",
    "    \\begin{array}{|c|c|}\n",
    "    \\hline x & y & x \\oplus y  \\\\\\hline\n",
    "      0  & 0 & 0 \\\\\\hline\n",
    "      0  & 1 & 1 \\\\\\hline\n",
    "      1  & 0 & 1 \\\\\\hline\n",
    "      1  & 1 &  0 \\\\\\hline\n",
    "    \\end{array}\n",
    "</div>\n",
    "<div style=\"float:left;width:50%;\">\n",
    "    AND $\\land$:\n",
    "    \\begin{array}{|c|c|}\n",
    "    \\hline x & y & x \\wedge y  \\\\\\hline\n",
    "      0  & 0 & 0 \\\\\\hline\n",
    "      0  & 1 & 0 \\\\\\hline\n",
    "      1  & 0 & 0 \\\\\\hline\n",
    "      1  & 1 &  1 \\\\\\hline\n",
    "    \\end{array}\n",
    "</div>"
   ]
  },
  {
   "cell_type": "markdown",
   "id": "592e5c19",
   "metadata": {},
   "source": [
    "### 9.2 - Quantum Gate Matrices <a class=\"anchor\" id=\"gates\"></a>\n",
    "\n",
    "We work with a few different basic quantum gates. For completeness, their matrix representations in the computational basis are given here. First, the important basic one-qubit gates are"
   ]
  },
  {
   "cell_type": "markdown",
   "id": "84e64bd4",
   "metadata": {},
   "source": [
    "$$Z=\\begin{bmatrix}1&0\\\\0&-1\\end{bmatrix}\\qquad X=\\begin{bmatrix}0&1\\\\1&0\\end{bmatrix}\\qquad H=\\frac{1}{\\sqrt{2}}\\begin{bmatrix}1&1\\\\1&-1\\end{bmatrix}\\qquad S=\\begin{bmatrix}1&0\\\\0&i\\end{bmatrix}\\qquad T=\\begin{bmatrix}1&0\\\\0&(1+i)/\\sqrt{2}\\end{bmatrix}$$"
   ]
  },
  {
   "cell_type": "markdown",
   "id": "c43c56ef",
   "metadata": {},
   "source": [
    "We also need use the two-qubit CNOT gate"
   ]
  },
  {
   "cell_type": "markdown",
   "id": "a0b13434",
   "metadata": {},
   "source": [
    "$$CNOT=\\begin{bmatrix}1&0&0&0\\\\0&1&0&0\\\\0&0&0&1\\\\0&0&1&0\\end{bmatrix}$$"
   ]
  },
  {
   "cell_type": "markdown",
   "id": "698590e4",
   "metadata": {},
   "source": [
    "### 9.3 - Quantum Computer Code <a class=\"anchor\" id=\"qc-code\"></a>\n",
    "\n",
    "Below is included the code we used to run the CHSH game on a real quantum computer. We import the necessary packages, prepare the circuits as for the simulator, and send the tasks to run on the IonQ quantum device."
   ]
  },
  {
   "cell_type": "code",
   "execution_count": 17,
   "id": "79902f81",
   "metadata": {},
   "outputs": [
    {
     "name": "stdout",
     "output_type": "stream",
     "text": [
      "\u001b[0;35mYou have already enabled qBraid Quantum Jobs in the amazon_braket environment.\u001b[0m\n"
     ]
    }
   ],
   "source": [
    "#You only need to run this line once after you install the environment\n",
    "!qbraid jobs enable amazon_braket"
   ]
  },
  {
   "cell_type": "code",
   "execution_count": 18,
   "id": "30d45e5f",
   "metadata": {},
   "outputs": [],
   "source": [
    "import numpy as np\n",
    "import matplotlib.pyplot as plt\n",
    "%matplotlib inline\n",
    "import string\n",
    "import time\n",
    "# AWS imports: Import Braket SDK modules\\n\",\n",
    "from braket.circuits import Circuit, Gate, Instruction, circuit, Observable\n",
    "from braket.devices import LocalSimulator\n",
    "from braket.aws import AwsDevice, AwsQuantumTask\n",
    "s3_folder = (\"dummy_variable\", \"dummy_variable\")"
   ]
  },
  {
   "cell_type": "code",
   "execution_count": 19,
   "id": "fedce27f",
   "metadata": {},
   "outputs": [
    {
     "name": "stdout",
     "output_type": "stream",
     "text": [
      "Gate set supported by SDK:\n",
      " ['CCNot', 'CNot', 'CPhaseShift', 'CPhaseShift00', 'CPhaseShift01', 'CPhaseShift10', 'CSwap', 'CV', 'CY', 'CZ', 'ECR', 'H', 'I', 'ISwap', 'PSwap', 'PhaseShift', 'Rx', 'Ry', 'Rz', 'S', 'Si', 'Swap', 'T', 'Ti', 'Unitary', 'V', 'Vi', 'X', 'XX', 'XY', 'Y', 'YY', 'Z', 'ZZ']\n",
      "\n",
      "\n",
      "Gate set supported by the Rigetti device:\n",
      " ['cz', 'xy', 'ccnot', 'cnot', 'cphaseshift', 'cphaseshift00', 'cphaseshift01', 'cphaseshift10', 'cswap', 'h', 'i', 'iswap', 'phaseshift', 'pswap', 'rx', 'ry', 'rz', 's', 'si', 'swap', 't', 'ti', 'x', 'y', 'z', 'start_verbatim_box', 'end_verbatim_box']\n",
      "\n",
      "\n",
      "Gate set supported by the IonQ device:\n",
      " ['x', 'y', 'z', 'rx', 'ry', 'rz', 'h', 'cnot', 's', 'si', 't', 'ti', 'v', 'vi', 'xx', 'yy', 'zz', 'swap']\n",
      "\n",
      "\n",
      "Gate set supported by the OQC device:\n",
      " ['ccnot', 'cnot', 'cphaseshift', 'cswap', 'cy', 'cz', 'h', 'i', 'phaseshift', 'rx', 'ry', 'rz', 's', 'si', 'swap', 't', 'ti', 'v', 'vi', 'x', 'y', 'z', 'ecr', 'start_verbatim_box', 'end_verbatim_box']\n"
     ]
    }
   ],
   "source": [
    "# print all (the usual suspects) available gates currently available within SDK\n",
    "gate_set = [attr for attr in dir(Gate) if attr[0] in string.ascii_uppercase]\n",
    "print('Gate set supported by SDK:\\n', gate_set)\n",
    "print('\\n') \n",
    "\n",
    "# the Rigetti device\n",
    "device = AwsDevice(\"arn:aws:braket:us-west-1::device/qpu/rigetti/Aspen-M-1\")\n",
    "supported_gates = device.properties.action['braket.ir.jaqcd.program'].supportedOperations\n",
    "# print the supported gate set\n",
    "print('Gate set supported by the Rigetti device:\\n', supported_gates)\n",
    "print('\\n') \n",
    "\n",
    "# the IonQ device\n",
    "device = AwsDevice(\"arn:aws:braket:::device/qpu/ionq/ionQdevice\")\n",
    "supported_gates = device.properties.action['braket.ir.jaqcd.program'].supportedOperations\n",
    "# print the supported gate set\n",
    "print('Gate set supported by the IonQ device:\\n', supported_gates)\n",
    "print('\\n') \n",
    "\n",
    "# the Oxford Quantum Circuits (OQC) device\n",
    "device = AwsDevice(\"arn:aws:braket:eu-west-2::device/qpu/oqc/Lucy\")\n",
    "supported_gates = device.properties.action['braket.ir.jaqcd.program'].supportedOperations\n",
    "# print the supported gate set\n",
    "print('Gate set supported by the OQC device:\\n', supported_gates)"
   ]
  },
  {
   "cell_type": "code",
   "execution_count": 20,
   "id": "303583ee",
   "metadata": {},
   "outputs": [
    {
     "name": "stdout",
     "output_type": "stream",
     "text": [
      "T  : |0|1|2|3|4|5|6|\n",
      "                    \n",
      "q0 : -H-C-----------\n",
      "        |           \n",
      "q1 : ---X-S-H-T-H-S-\n",
      "\n",
      "T  : |0|1|2|3|4|5|6| T  : |0|1|2|3|4|5|6|7|\n",
      "                      \n",
      "q0 : -H-C-------------\n",
      "        |             \n",
      "q1 : ---X-S-H-T-H-S-H-\n",
      "\n",
      "T  : |0|1|2|3|4|5|6|7| T  : |0|1|2|3|4|5|6|\n",
      "                    \n",
      "q0 : -H-C-H---------\n",
      "        |           \n",
      "q1 : ---X-S-H-T-H-S-\n",
      "\n",
      "T  : |0|1|2|3|4|5|6| T  : |0|1|2|3|4|5|6|7|\n",
      "                      \n",
      "q0 : -H-C-H-----------\n",
      "        |             \n",
      "q1 : ---X-S-H-T-H-S-H-\n",
      "\n",
      "T  : |0|1|2|3|4|5|6|7|\n"
     ]
    }
   ],
   "source": [
    "#Circuits for each of the 4 CHSH game questions\n",
    "\n",
    "bell00 = Circuit().h(0).cnot(0, 1).s(1).h(1).t(1).h(1).s(1)\n",
    "bell01 = Circuit().h(0).cnot(0, 1).s(1).h(1).t(1).h(1).s(1).h(1)\n",
    "bell10 = Circuit().h(0).cnot(0, 1).h(0).s(1).h(1).t(1).h(1).s(1)\n",
    "bell11 = Circuit().h(0).cnot(0, 1).h(0).s(1).h(1).t(1).h(1).s(1).h(1)\n",
    "\n",
    "print(bell00,bell01,bell10,bell11)"
   ]
  },
  {
   "cell_type": "code",
   "execution_count": 21,
   "id": "46a5a520",
   "metadata": {},
   "outputs": [
    {
     "name": "stdout",
     "output_type": "stream",
     "text": [
      "Status of task: QUEUED\n"
     ]
    }
   ],
   "source": [
    "# set up device (actual quantum computer; in this case, it is the IonQ)\n",
    "ionq = AwsDevice(\"arn:aws:braket:::device/qpu/ionq/ionQdevice\")\n",
    "\n",
    "# run circuit\n",
    "ionq_task = ionq.run(bell00, s3_folder, shots=50)\n",
    "\n",
    "# get id and status of submitted task\n",
    "ionq_task_id = ionq_task.id\n",
    "ionq_status = ionq_task.state()\n",
    "# print('ID of task:', ionq_task_id)\n",
    "print('Status of task:', ionq_status)"
   ]
  },
  {
   "cell_type": "code",
   "execution_count": 22,
   "id": "c61cc769",
   "metadata": {},
   "outputs": [
    {
     "name": "stdout",
     "output_type": "stream",
     "text": [
      "Status of (reconstructed) task: COMPLETED\n"
     ]
    }
   ],
   "source": [
    "# print status\n",
    "status = ionq_task.state()\n",
    "print('Status of (reconstructed) task:', status)"
   ]
  },
  {
   "cell_type": "code",
   "execution_count": 23,
   "id": "402b11ed",
   "metadata": {},
   "outputs": [
    {
     "name": "stdout",
     "output_type": "stream",
     "text": [
      "37\n"
     ]
    }
   ],
   "source": [
    "# get results\n",
    "result00 = ionq_task.result()\n",
    "# print(results)\n",
    "\n",
    "wins00=result00.measurement_counts['00']+result00.measurement_counts['11']\n",
    "\n",
    "print(wins00)"
   ]
  },
  {
   "cell_type": "code",
   "execution_count": 24,
   "id": "e7d15c7b",
   "metadata": {},
   "outputs": [
    {
     "name": "stdout",
     "output_type": "stream",
     "text": [
      "Status of task: QUEUED\n"
     ]
    }
   ],
   "source": [
    "# set up device (actual quantum computer; in this case, it is the IonQ)\n",
    "ionq = AwsDevice(\"arn:aws:braket:::device/qpu/ionq/ionQdevice\")\n",
    "\n",
    "# run circuit\n",
    "ionq_task = ionq.run(bell01, s3_folder, shots=50)\n",
    "\n",
    "# get id and status of submitted task\n",
    "ionq_task_id = ionq_task.id\n",
    "ionq_status = ionq_task.state()\n",
    "# print('ID of task:', ionq_task_id)\n",
    "print('Status of task:', ionq_status)"
   ]
  },
  {
   "cell_type": "code",
   "execution_count": 25,
   "id": "7a4ad462",
   "metadata": {},
   "outputs": [
    {
     "name": "stdout",
     "output_type": "stream",
     "text": [
      "Status of (reconstructed) task: COMPLETED\n"
     ]
    }
   ],
   "source": [
    "# print status\n",
    "status = ionq_task.state()\n",
    "print('Status of (reconstructed) task:', status)"
   ]
  },
  {
   "cell_type": "code",
   "execution_count": 26,
   "id": "27f18668",
   "metadata": {},
   "outputs": [
    {
     "name": "stdout",
     "output_type": "stream",
     "text": [
      "43\n"
     ]
    }
   ],
   "source": [
    "# get results\n",
    "result01 = ionq_task.result()\n",
    "# print(results)\n",
    "\n",
    "wins01=result01.measurement_counts['00']+result01.measurement_counts['11']\n",
    "\n",
    "print(wins01)"
   ]
  },
  {
   "cell_type": "code",
   "execution_count": 27,
   "id": "459f9858",
   "metadata": {},
   "outputs": [
    {
     "name": "stdout",
     "output_type": "stream",
     "text": [
      "Status of task: QUEUED\n"
     ]
    }
   ],
   "source": [
    "# set up device (actual quantum computer; in this case, it is the IonQ)\n",
    "ionq = AwsDevice(\"arn:aws:braket:::device/qpu/ionq/ionQdevice\")\n",
    "\n",
    "# run circuit\n",
    "ionq_task = ionq.run(bell10, s3_folder, shots=50)\n",
    "\n",
    "# get id and status of submitted task\n",
    "ionq_task_id = ionq_task.id\n",
    "ionq_status = ionq_task.state()\n",
    "# print('ID of task:', ionq_task_id)\n",
    "print('Status of task:', ionq_status)"
   ]
  },
  {
   "cell_type": "code",
   "execution_count": 28,
   "id": "35bc7d26",
   "metadata": {},
   "outputs": [
    {
     "name": "stdout",
     "output_type": "stream",
     "text": [
      "Status of (reconstructed) task: COMPLETED\n"
     ]
    }
   ],
   "source": [
    "# print status\n",
    "status = ionq_task.state()\n",
    "print('Status of (reconstructed) task:', status)"
   ]
  },
  {
   "cell_type": "code",
   "execution_count": 29,
   "id": "3c0ffcbe",
   "metadata": {},
   "outputs": [
    {
     "name": "stdout",
     "output_type": "stream",
     "text": [
      "45\n"
     ]
    }
   ],
   "source": [
    "# get results\n",
    "result10 = ionq_task.result()\n",
    "# print(results)\n",
    "\n",
    "wins10=result10.measurement_counts['00']+result10.measurement_counts['11']\n",
    "\n",
    "print(wins10)"
   ]
  },
  {
   "cell_type": "code",
   "execution_count": 30,
   "id": "3a791ccd",
   "metadata": {},
   "outputs": [
    {
     "name": "stdout",
     "output_type": "stream",
     "text": [
      "Status of task: QUEUED\n"
     ]
    }
   ],
   "source": [
    "# set up device (actual quantum computer; in this case, it is the IonQ)\n",
    "ionq = AwsDevice(\"arn:aws:braket:::device/qpu/ionq/ionQdevice\")\n",
    "\n",
    "# run circuit\n",
    "ionq_task = ionq.run(bell11, s3_folder, shots=50)\n",
    "\n",
    "# get id and status of submitted task\n",
    "ionq_task_id = ionq_task.id\n",
    "ionq_status = ionq_task.state()\n",
    "# print('ID of task:', ionq_task_id)\n",
    "print('Status of task:', ionq_status)"
   ]
  },
  {
   "cell_type": "code",
   "execution_count": 31,
   "id": "a7d3502e",
   "metadata": {},
   "outputs": [
    {
     "name": "stdout",
     "output_type": "stream",
     "text": [
      "Status of (reconstructed) task: COMPLETED\n"
     ]
    }
   ],
   "source": [
    "status = ionq_task.state()\n",
    "print('Status of (reconstructed) task:', status)"
   ]
  },
  {
   "cell_type": "code",
   "execution_count": 32,
   "id": "c469b2d7",
   "metadata": {},
   "outputs": [
    {
     "name": "stdout",
     "output_type": "stream",
     "text": [
      "36\n"
     ]
    }
   ],
   "source": [
    "# get results\n",
    "result11 = ionq_task.result()\n",
    "# print(results)\n",
    "\n",
    "wins11=result11.measurement_counts['01']+result11.measurement_counts['10']\n",
    "\n",
    "print(wins11)"
   ]
  }
 ],
 "metadata": {
  "kernelspec": {
   "display_name": "Python 3 [Default]",
   "language": "python",
   "name": "python3"
  },
  "language_info": {
   "codemirror_mode": {
    "name": "ipython",
    "version": 3
   },
   "file_extension": ".py",
   "mimetype": "text/x-python",
   "name": "python",
   "nbconvert_exporter": "python",
   "pygments_lexer": "ipython3",
   "version": "3.9.10"
  }
 },
 "nbformat": 4,
 "nbformat_minor": 5
}
