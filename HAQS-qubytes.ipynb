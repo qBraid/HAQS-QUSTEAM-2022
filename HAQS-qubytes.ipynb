{
 "cells": [
  {
   "cell_type": "markdown",
   "id": "d38aa445",
   "metadata": {},
   "source": [
    "# Link to our video\n",
    "[Google Drive](https://drive.google.com/drive/folders/1rvTVlwdQYUjzBsleMMcUJdrs8AFMKYiF?usp=sharing)"
   ]
  },
  {
   "cell_type": "markdown",
   "id": "8b747a18-6d43-4952-8fce-25c0eaf01b4c",
   "metadata": {},
   "source": [
    "**Quantum Entanglement**\n",
    "\n",
    "**when is a entanglement?**\n",
    "\n",
    "entanglement is among the properties of quantum mechanics (mainly used for quantum computing) \n",
    "where two qubits (fundamental quantum bit) \n",
    "are entangled (correlated) where even they are separated they still tell something about the other no matter how far they are\n",
    "thats weird right! \n",
    "thats why Einstein called that **spooky action at a distance!**\n"
   ]
  },
  {
   "attachments": {
    "d80f1267-6007-4fbc-b890-0e8de2ed5998.png": {
     "image/png": "[encoded data removed]"
    }
   },
   "cell_type": "markdown",
   "id": "9ed0aa80-32c9-4e97-98ce-91fadfe1a0f4",
   "metadata": {},
   "source": [
    "**what is a bell state?**\n",
    "\n",
    "Bell states are the four states that can be created when two qubits are maximally entangled.\n",
    "The four states are represented as,\n",
    "\n",
    "![image.png](attachment:d80f1267-6007-4fbc-b890-0e8de2ed5998.png)"
   ]
  },
  {
   "cell_type": "markdown",
   "id": "01c066d8-bd49-4be2-bb0e-ba33b7abc376",
   "metadata": {},
   "source": [
    "**How does one create a entanglement on a real quantum computer?**\n",
    "\n",
    "As two qubits are entangled means that one qubit tells something about the other for the same reason to construct a quantum entanglement in the circuit we use the type of a gate which can be applied on both qubits at a time and state of the one matters the other one for the same reason we use CNOT/CX gate!(ofc with a hadamrd or a flip/not gate!)\n"
   ]
  },
  {
   "cell_type": "markdown",
   "id": "15198495-79de-4d45-b869-8e10ebe6ace0",
   "metadata": {},
   "source": [
    "**importing libraries to run a circuit on simulator as well as on a real hardware**"
   ]
  },
  {
   "cell_type": "code",
   "execution_count": null,
   "id": "8123721a-2002-4f7f-bb9f-71672a9d95e8",
   "metadata": {},
   "outputs": [],
   "source": [
    "!qbraid jobs enable amazon_braket \n",
    "#to enable jobs for real hardware and simulator via amazon braket"
   ]
  },
  {
   "cell_type": "code",
   "execution_count": null,
   "id": "35228bf4-dd75-4574-ab0d-add022ba8e37",
   "metadata": {},
   "outputs": [],
   "source": [
    "# general imports\n",
    "import numpy as np\n",
    "import matplotlib.pyplot as plt\n",
    "# magic word for producing visualizations in notebook\n",
    "%matplotlib inline\n",
    "import string\n",
    "import time\n",
    "\n",
    "# AWS imports: Import Braket SDK modules\n",
    "from braket.circuits import Circuit, Gate, Instruction, circuit, Observable\n",
    "from braket.devices import LocalSimulator\n",
    "from braket.aws import AwsDevice, AwsQuantumTask\n",
    "s3_folder = (\"dummy_variable\", \"dummy_variable\")"
   ]
  },
  {
   "cell_type": "code",
   "execution_count": null,
   "id": "e9ddfcae-44b4-459f-bf22-361997c24894",
   "metadata": {},
   "outputs": [],
   "source": [
    "# print all (the usual suspects) available gates currently available within SDK\n",
    "gate_set = [attr for attr in dir(Gate) if attr[0] in string.ascii_uppercase]\n",
    "print('Gate set supported by SDK:\\n', gate_set)\n",
    "print('\\n') \n",
    "\n",
    "# the Rigetti device\n",
    "device = AwsDevice(\"arn:aws:braket:us-west-1::device/qpu/rigetti/Aspen-M-1\")\n",
    "supported_gates = device.properties.action['braket.ir.jaqcd.program'].supportedOperations\n",
    "# print the supported gate set\n",
    "print('Gate set supported by the Rigetti device:\\n', supported_gates)\n",
    "print('\\n') \n",
    "\n",
    "# the IonQ device\n",
    "device = AwsDevice(\"arn:aws:braket:::device/qpu/ionq/ionQdevice\")\n",
    "supported_gates = device.properties.action['braket.ir.jaqcd.program'].supportedOperations\n",
    "# print the supported gate set\n",
    "print('Gate set supported by the IonQ device:\\n', supported_gates)\n",
    "print('\\n') \n",
    "\n",
    "# the Oxford Quantum Circuits (OQC) device\n",
    "device = AwsDevice(\"arn:aws:braket:eu-west-2::device/qpu/oqc/Lucy\")\n",
    "supported_gates = device.properties.action['braket.ir.jaqcd.program'].supportedOperations\n",
    "# print the supported gate set\n",
    "print('Gate set supported by the OQC device:\\n', supported_gates)"
   ]
  },
  {
   "cell_type": "markdown",
   "id": "223723f8-4b35-4778-b988-5f81aa019193",
   "metadata": {},
   "source": [
    "**LETS BUILD THE CIRCUIT!!**"
   ]
  },
  {
   "cell_type": "markdown",
   "id": "fae8ea7f-c966-40b3-ae0e-476efc45f21b",
   "metadata": {},
   "source": [
    "here we will try to create the first bell state and try to understand the entanglement!"
   ]
  },
  {
   "cell_type": "code",
   "execution_count": null,
   "id": "deb440b3-7061-4921-a833-d99779d9b1fd",
   "metadata": {},
   "outputs": [],
   "source": [
    "#defining the circuit\n",
    "bell = Circuit().h.(0).cnot(0, 1)"
   ]
  },
  {
   "cell_type": "code",
   "execution_count": null,
   "id": "dd15c031-0895-4c5b-8d8c-a369a30b84d6",
   "metadata": {},
   "outputs": [],
   "source": [
    "#print circuit to check if the proper gates are applied on both qubits\n",
    "print = (bell, type(bell))"
   ]
  },
  {
   "attachments": {
    "4d554538-78d0-4202-9fe5-3d9215d082f3.png": {
     "image/png": "[encoded data removed]"
    }
   },
   "cell_type": "markdown",
   "id": "0ef7b20c-a8db-48f6-b5a3-09fc879819db",
   "metadata": {},
   "source": [
    " This will entangle the two qubits such that the combined state becomes\n",
    " \n",
    " \n",
    " \n",
    " ![image.png](attachment:4d554538-78d0-4202-9fe5-3d9215d082f3.png)"
   ]
  },
  {
   "cell_type": "code",
   "execution_count": null,
   "id": "7b0e386e-9de5-49d0-8396-2b50ec9c4c28",
   "metadata": {},
   "outputs": [],
   "source": [
    "#run this on local simulator \n",
    "device = Local simualtor()"
   ]
  },
  {
   "cell_type": "code",
   "execution_count": null,
   "id": "fe7b4487-4b7f-41cc-aacb-7cd672f26eb5",
   "metadata": {},
   "outputs": [],
   "source": [
    "# run circuit (execute single TASK)\n",
    "result = device.run(bell, shots=100).result()\n",
    "# get measurement shots\n",
    "counts = result.measurement_counts\n",
    "# print counts\n",
    "print(counts)"
   ]
  },
  {
   "cell_type": "code",
   "execution_count": null,
   "id": "debd9a1d-1216-4bfe-8103-da56cfa6dcd2",
   "metadata": {},
   "outputs": [],
   "source": [
    "# plot using result\n",
    "plt.bar(counts.keys(), counts.values())\n",
    "plt.xlabel('bitstrings')\n",
    "plt.ylabel('counts')"
   ]
  },
  {
   "cell_type": "markdown",
   "id": "55694d00-b857-4a8e-bb3b-235a26edb2df",
   "metadata": {},
   "source": [
    "From the above result we can see that theres a 50 50 probablity of getting 11 or 00 state at the end this happened here because quantum computers are highly unstable and they tend to collapse easily to a classical form of them"
   ]
  },
  {
   "cell_type": "markdown",
   "id": "7e8dbc2a-525d-476c-93da-99fe379d3a66",
   "metadata": {},
   "source": [
    "**now lets run the same circuit on a real quantum device**"
   ]
  },
  {
   "cell_type": "markdown",
   "id": "c04362b7-e588-44f5-8989-8721e284d164",
   "metadata": {},
   "source": [
    "Now we submit our circuit to the superconducting quantum chip provided by Rigetti. Depending on our position in the queue, we may have to wait for some time till our circuit is actually run."
   ]
  },
  {
   "cell_type": "code",
   "execution_count": null,
   "id": "551c1811-b20a-43cf-8767-6deb0f112a5d",
   "metadata": {},
   "outputs": [],
   "source": [
    "# set up device\n",
    "rigetti = AwsDevice(\"arn:aws:braket:us-west-1::device/qpu/rigetti/Aspen-M-2\")\n",
    "\n",
    "# create a clean circuit with no result type attached.(This is because some result types are only supported when shots=0)\n",
    "bell = Circuit().h(0).cnot(0, 1)  \n",
    "\n",
    "# add the Z \\otimes Z expectation value\n",
    "bell.expectation(Observable.Z() @ Observable.Z(), target=[0,1])\n",
    "\n",
    "# run circuit \n",
    "rigetti_task = rigetti.run(bell, s3_folder,shots=1000)\n",
    "\n",
    "# get id and status of submitted task\n",
    "rigetti_task_id = rigetti_task.id\n",
    "rigetti_status = rigetti_task.state()\n",
    "# print('ID of task:', rigetti_task_id)\n",
    "print('Status of task:', rigetti_status)"
   ]
  },
  {
   "cell_type": "markdown",
   "id": "c43ce1cb-2bf2-4d8d-9742-7fe587f09108",
   "metadata": {},
   "source": [
    "The task is submitted and we can regularly (or irregularly) check the status of this task by executing the following cell."
   ]
  },
  {
   "cell_type": "code",
   "execution_count": null,
   "id": "a28b5471-0503-4caf-baaa-5bcbd5dbc2d2",
   "metadata": {},
   "outputs": [],
   "source": [
    "# print status\n",
    "status = rigetti_task.state()\n",
    "print('Status of (reconstructed) task:', status)"
   ]
  },
  {
   "cell_type": "markdown",
   "id": "a1aba1fd-24e2-4b7c-b6b1-4fdb6beb7189",
   "metadata": {},
   "source": [
    "**loading completed task with graph plots**\n"
   ]
  },
  {
   "cell_type": "code",
   "execution_count": null,
   "id": "38183ae3-a5b7-42c0-a3fa-a9a2b08daf5e",
   "metadata": {},
   "outputs": [],
   "source": [
    "task_load = AwsQuantumTask(arn=\"\")\n",
    "\n",
    "# print status\n",
    "status = task_load.state()\n",
    "print('Status of (reconstructed) task:', status)\n",
    "print('\\n')\n",
    "# wait for job to complete\n",
    "# terminal_states = ['COMPLETED', 'FAILED', 'CANCELLED']\n",
    "if status == 'COMPLETED':\n",
    "    # get results\n",
    "    results = task_load.result()\n",
    "    # print(results)\n",
    "    \n",
    "    # get all metadata of submitted task\n",
    "    metadata = task_load.metadata()\n",
    "    # example for metadata\n",
    "    shots = metadata['shots']\n",
    "    machine = metadata['deviceArn']\n",
    "    # print example metadata\n",
    "    print(\"{} shots taken on machine {}.\\n\".format(shots, machine))\n",
    "    \n",
    "    # get measurement counts\n",
    "    counts = results.measurement_counts\n",
    "    print('Measurement counts:', counts)\n",
    "\n",
    "    # plot results: see effects of noise\n",
    "    plt.bar(counts.keys(), counts.values())\n",
    "    plt.xlabel('bitstrings')\n",
    "    plt.ylabel('counts')\n",
    "    plt.tight_layout()\n",
    "    plt.savefig('AWS_QC_results.png', dpi=700)\n",
    "    \n",
    "elif status in ['FAILED', 'CANCELLED']:\n",
    "    # print terminal message \n",
    "    print('Your task is in terminal status, but has not completed.')\n",
    "\n",
    "else:\n",
    "    # print current status\n",
    "    print('Sorry, your task is still being processed and has not been finalized yet.')"
   ]
  },
  {
   "cell_type": "markdown",
   "id": "33626889-e983-4d3d-8b27-27127f9f0675",
   "metadata": {},
   "source": [
    "here we can see that the there are some outputs which are ideally not supposed to be obtained but due to exernal factors and "
   ]
  }
 ],
 "metadata": {
  "kernelspec": {
   "display_name": "Python 3.10.5 64-bit",
   "language": "python",
   "name": "python3"
  },
  "language_info": {
   "codemirror_mode": {
    "name": "ipython",
    "version": 3
   },
   "file_extension": ".py",
   "mimetype": "text/x-python",
   "name": "python",
   "nbconvert_exporter": "python",
   "pygments_lexer": "ipython3",
   "version": "3.10.5"
  },
  "vscode": {
   "interpreter": {
    "hash": "7e1998ff7f8aa20ada591c520b972326324e5ea05489af9e422744c7c09f6dad"
   }
  }
 },
 "nbformat": 4,
 "nbformat_minor": 5
}
